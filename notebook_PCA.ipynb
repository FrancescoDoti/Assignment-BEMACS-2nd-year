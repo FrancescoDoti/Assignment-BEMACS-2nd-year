{
 "cells": [
  {
   "cell_type": "markdown",
   "metadata": {},
   "source": [
    "# Task Description"
   ]
  },
  {
   "cell_type": "markdown",
   "metadata": {},
   "source": [
    "This dataset is composed of 1300 samples with 35 features each. The first column\n",
    "is the sample id. The second column in the dataset represents the label. There\n",
    "are 2 possible values for the labels. The remaining columns are numeric\n",
    "features.\n",
    "\n",
    "Your task is the following: assuming that you want to classify this data with\n",
    "Logistic Regression (implemented by sklearn.linear_model.LogisticRegression),\n",
    "you should determine whether applying PCA to this dataset is useful, and if so\n",
    "what number of components you would choose to use. At the end of the analysis,\n",
    "you should have chosen an optimal strategy, including the optimal set of\n",
    "parameters for the classifier: write this choice explicitly in the conclusions\n",
    "of your notebook.\n",
    "\n",
    "Your notebook should detail the procedure you have used to choose the optimal\n",
    "parameters (graphs are a good idea when possible/sensible).\n",
    "\n",
    "The notebook will be evaluated not only based on the final results, but also on\n",
    "the procedure employed, which should balance practical considerations (one may\n",
    "not be able to exhaustively explore all possible combinations of the parameters)\n",
    "with the desire for achieving the best possible performance in the least amount\n",
    "of time.\n",
    "\n",
    "Bonus points may be assigned for particularly clean/nifty code and/or well-\n",
    "presented results.\n",
    "\n",
    "You are also free to attempt other strategies beyond the one in the assignment\n",
    "(which however is mandatory!).\n"
   ]
  },
  {
   "cell_type": "markdown",
   "metadata": {},
   "source": [
    "# Data import and visualization"
   ]
  },
  {
   "cell_type": "code",
   "execution_count": 1,
   "metadata": {},
   "outputs": [],
   "source": [
    "import sklearn\n",
    "import matplotlib.pyplot as plt\n",
    "import numpy as np\n",
    "import pandas as pd\n",
    "import seaborn as sns\n",
    "from sklearn.linear_model import LogisticRegression\n",
    "from sklearn.model_selection import train_test_split\n",
    "import warnings\n",
    "%matplotlib inline\n",
    "warnings.simplefilter(action='ignore', category=FutureWarning)\n",
    "plt.style.use(\"Solarize_Light2\")\n",
    "\n",
    "\n",
    "#common imports"
   ]
  },
  {
   "cell_type": "code",
   "execution_count": 2,
   "metadata": {
    "scrolled": true
   },
   "outputs": [
    {
     "data": {
      "text/html": [
       "<div>\n",
       "<style scoped>\n",
       "    .dataframe tbody tr th:only-of-type {\n",
       "        vertical-align: middle;\n",
       "    }\n",
       "\n",
       "    .dataframe tbody tr th {\n",
       "        vertical-align: top;\n",
       "    }\n",
       "\n",
       "    .dataframe thead th {\n",
       "        text-align: right;\n",
       "    }\n",
       "</style>\n",
       "<table border=\"1\" class=\"dataframe\">\n",
       "  <thead>\n",
       "    <tr style=\"text-align: right;\">\n",
       "      <th></th>\n",
       "      <th>Unnamed: 0</th>\n",
       "      <th>label</th>\n",
       "      <th>feature_1</th>\n",
       "      <th>feature_2</th>\n",
       "      <th>feature_3</th>\n",
       "      <th>feature_4</th>\n",
       "      <th>feature_5</th>\n",
       "      <th>feature_6</th>\n",
       "      <th>feature_7</th>\n",
       "      <th>feature_8</th>\n",
       "      <th>...</th>\n",
       "      <th>feature_26</th>\n",
       "      <th>feature_27</th>\n",
       "      <th>feature_28</th>\n",
       "      <th>feature_29</th>\n",
       "      <th>feature_30</th>\n",
       "      <th>feature_31</th>\n",
       "      <th>feature_32</th>\n",
       "      <th>feature_33</th>\n",
       "      <th>feature_34</th>\n",
       "      <th>feature_35</th>\n",
       "    </tr>\n",
       "  </thead>\n",
       "  <tbody>\n",
       "    <tr>\n",
       "      <th>0</th>\n",
       "      <td>0</td>\n",
       "      <td>0</td>\n",
       "      <td>1.611543</td>\n",
       "      <td>1.347034</td>\n",
       "      <td>-2.477540</td>\n",
       "      <td>-0.648427</td>\n",
       "      <td>2.997458</td>\n",
       "      <td>-2.055095</td>\n",
       "      <td>3.568420</td>\n",
       "      <td>0.024963</td>\n",
       "      <td>...</td>\n",
       "      <td>0.711302</td>\n",
       "      <td>0.798683</td>\n",
       "      <td>0.077489</td>\n",
       "      <td>-0.324108</td>\n",
       "      <td>0.414428</td>\n",
       "      <td>-1.383401</td>\n",
       "      <td>-0.836751</td>\n",
       "      <td>-0.132047</td>\n",
       "      <td>0.978134</td>\n",
       "      <td>0.452313</td>\n",
       "    </tr>\n",
       "    <tr>\n",
       "      <th>1</th>\n",
       "      <td>1</td>\n",
       "      <td>0</td>\n",
       "      <td>3.917373</td>\n",
       "      <td>0.685988</td>\n",
       "      <td>-0.435554</td>\n",
       "      <td>0.899043</td>\n",
       "      <td>-2.362151</td>\n",
       "      <td>2.223814</td>\n",
       "      <td>-2.702898</td>\n",
       "      <td>2.791828</td>\n",
       "      <td>...</td>\n",
       "      <td>-0.890966</td>\n",
       "      <td>5.405726</td>\n",
       "      <td>5.581480</td>\n",
       "      <td>0.448252</td>\n",
       "      <td>0.612576</td>\n",
       "      <td>0.396112</td>\n",
       "      <td>-1.524673</td>\n",
       "      <td>-0.705357</td>\n",
       "      <td>-1.203355</td>\n",
       "      <td>-1.195607</td>\n",
       "    </tr>\n",
       "    <tr>\n",
       "      <th>2</th>\n",
       "      <td>2</td>\n",
       "      <td>0</td>\n",
       "      <td>2.717954</td>\n",
       "      <td>-0.445983</td>\n",
       "      <td>-7.872529</td>\n",
       "      <td>0.782025</td>\n",
       "      <td>8.430989</td>\n",
       "      <td>-1.996975</td>\n",
       "      <td>-4.425246</td>\n",
       "      <td>2.615590</td>\n",
       "      <td>...</td>\n",
       "      <td>-0.210772</td>\n",
       "      <td>4.398679</td>\n",
       "      <td>-0.812820</td>\n",
       "      <td>-0.558464</td>\n",
       "      <td>0.180165</td>\n",
       "      <td>2.864181</td>\n",
       "      <td>-1.126173</td>\n",
       "      <td>0.722848</td>\n",
       "      <td>0.591242</td>\n",
       "      <td>0.511108</td>\n",
       "    </tr>\n",
       "    <tr>\n",
       "      <th>3</th>\n",
       "      <td>3</td>\n",
       "      <td>0</td>\n",
       "      <td>1.901960</td>\n",
       "      <td>3.610109</td>\n",
       "      <td>0.348900</td>\n",
       "      <td>2.747855</td>\n",
       "      <td>-1.228065</td>\n",
       "      <td>2.019494</td>\n",
       "      <td>4.431741</td>\n",
       "      <td>2.575430</td>\n",
       "      <td>...</td>\n",
       "      <td>-0.481207</td>\n",
       "      <td>-1.440814</td>\n",
       "      <td>4.625129</td>\n",
       "      <td>1.435616</td>\n",
       "      <td>1.298017</td>\n",
       "      <td>-0.978501</td>\n",
       "      <td>0.236653</td>\n",
       "      <td>3.553453</td>\n",
       "      <td>0.391204</td>\n",
       "      <td>0.486531</td>\n",
       "    </tr>\n",
       "    <tr>\n",
       "      <th>4</th>\n",
       "      <td>4</td>\n",
       "      <td>1</td>\n",
       "      <td>-2.949714</td>\n",
       "      <td>-2.270315</td>\n",
       "      <td>0.779124</td>\n",
       "      <td>-5.032824</td>\n",
       "      <td>-1.979701</td>\n",
       "      <td>-0.234704</td>\n",
       "      <td>0.385286</td>\n",
       "      <td>-2.307705</td>\n",
       "      <td>...</td>\n",
       "      <td>-1.791299</td>\n",
       "      <td>-1.612790</td>\n",
       "      <td>5.289838</td>\n",
       "      <td>-1.487783</td>\n",
       "      <td>0.175782</td>\n",
       "      <td>-1.466157</td>\n",
       "      <td>-0.096423</td>\n",
       "      <td>0.203877</td>\n",
       "      <td>-0.340325</td>\n",
       "      <td>0.164393</td>\n",
       "    </tr>\n",
       "  </tbody>\n",
       "</table>\n",
       "<p>5 rows × 37 columns</p>\n",
       "</div>"
      ],
      "text/plain": [
       "   Unnamed: 0  label  feature_1  feature_2  feature_3  feature_4  feature_5  \\\n",
       "0           0      0   1.611543   1.347034  -2.477540  -0.648427   2.997458   \n",
       "1           1      0   3.917373   0.685988  -0.435554   0.899043  -2.362151   \n",
       "2           2      0   2.717954  -0.445983  -7.872529   0.782025   8.430989   \n",
       "3           3      0   1.901960   3.610109   0.348900   2.747855  -1.228065   \n",
       "4           4      1  -2.949714  -2.270315   0.779124  -5.032824  -1.979701   \n",
       "\n",
       "   feature_6  feature_7  feature_8  ...  feature_26  feature_27  feature_28  \\\n",
       "0  -2.055095   3.568420   0.024963  ...    0.711302    0.798683    0.077489   \n",
       "1   2.223814  -2.702898   2.791828  ...   -0.890966    5.405726    5.581480   \n",
       "2  -1.996975  -4.425246   2.615590  ...   -0.210772    4.398679   -0.812820   \n",
       "3   2.019494   4.431741   2.575430  ...   -0.481207   -1.440814    4.625129   \n",
       "4  -0.234704   0.385286  -2.307705  ...   -1.791299   -1.612790    5.289838   \n",
       "\n",
       "   feature_29  feature_30  feature_31  feature_32  feature_33  feature_34  \\\n",
       "0   -0.324108    0.414428   -1.383401   -0.836751   -0.132047    0.978134   \n",
       "1    0.448252    0.612576    0.396112   -1.524673   -0.705357   -1.203355   \n",
       "2   -0.558464    0.180165    2.864181   -1.126173    0.722848    0.591242   \n",
       "3    1.435616    1.298017   -0.978501    0.236653    3.553453    0.391204   \n",
       "4   -1.487783    0.175782   -1.466157   -0.096423    0.203877   -0.340325   \n",
       "\n",
       "   feature_35  \n",
       "0    0.452313  \n",
       "1   -1.195607  \n",
       "2    0.511108  \n",
       "3    0.486531  \n",
       "4    0.164393  \n",
       "\n",
       "[5 rows x 37 columns]"
      ]
     },
     "execution_count": 2,
     "metadata": {},
     "output_type": "execute_result"
    }
   ],
   "source": [
    "data=pd.read_csv(\"C:/Users/frame/OneDrive/Desktop/mldata_0013115881.csv\") #substitute this with path of the dataset on your device\n",
    "data.head()"
   ]
  },
  {
   "cell_type": "code",
   "execution_count": 3,
   "metadata": {},
   "outputs": [],
   "source": [
    "data.drop(columns=[\"Unnamed: 0\"], inplace=True)"
   ]
  },
  {
   "cell_type": "code",
   "execution_count": 4,
   "metadata": {},
   "outputs": [
    {
     "name": "stdout",
     "output_type": "stream",
     "text": [
      "<class 'pandas.core.frame.DataFrame'>\n",
      "RangeIndex: 1300 entries, 0 to 1299\n",
      "Data columns (total 36 columns):\n",
      " #   Column      Non-Null Count  Dtype  \n",
      "---  ------      --------------  -----  \n",
      " 0   label       1300 non-null   int64  \n",
      " 1   feature_1   1300 non-null   float64\n",
      " 2   feature_2   1300 non-null   float64\n",
      " 3   feature_3   1300 non-null   float64\n",
      " 4   feature_4   1300 non-null   float64\n",
      " 5   feature_5   1300 non-null   float64\n",
      " 6   feature_6   1300 non-null   float64\n",
      " 7   feature_7   1300 non-null   float64\n",
      " 8   feature_8   1300 non-null   float64\n",
      " 9   feature_9   1300 non-null   float64\n",
      " 10  feature_10  1300 non-null   float64\n",
      " 11  feature_11  1300 non-null   float64\n",
      " 12  feature_12  1300 non-null   float64\n",
      " 13  feature_13  1300 non-null   float64\n",
      " 14  feature_14  1300 non-null   float64\n",
      " 15  feature_15  1300 non-null   float64\n",
      " 16  feature_16  1300 non-null   float64\n",
      " 17  feature_17  1300 non-null   float64\n",
      " 18  feature_18  1300 non-null   float64\n",
      " 19  feature_19  1300 non-null   float64\n",
      " 20  feature_20  1300 non-null   float64\n",
      " 21  feature_21  1300 non-null   float64\n",
      " 22  feature_22  1300 non-null   float64\n",
      " 23  feature_23  1300 non-null   float64\n",
      " 24  feature_24  1300 non-null   float64\n",
      " 25  feature_25  1300 non-null   float64\n",
      " 26  feature_26  1300 non-null   float64\n",
      " 27  feature_27  1300 non-null   float64\n",
      " 28  feature_28  1300 non-null   float64\n",
      " 29  feature_29  1300 non-null   float64\n",
      " 30  feature_30  1300 non-null   float64\n",
      " 31  feature_31  1300 non-null   float64\n",
      " 32  feature_32  1300 non-null   float64\n",
      " 33  feature_33  1300 non-null   float64\n",
      " 34  feature_34  1300 non-null   float64\n",
      " 35  feature_35  1300 non-null   float64\n",
      "dtypes: float64(35), int64(1)\n",
      "memory usage: 365.8 KB\n"
     ]
    }
   ],
   "source": [
    "data.info()"
   ]
  },
  {
   "cell_type": "code",
   "execution_count": 5,
   "metadata": {},
   "outputs": [
    {
     "data": {
      "text/html": [
       "<div>\n",
       "<style scoped>\n",
       "    .dataframe tbody tr th:only-of-type {\n",
       "        vertical-align: middle;\n",
       "    }\n",
       "\n",
       "    .dataframe tbody tr th {\n",
       "        vertical-align: top;\n",
       "    }\n",
       "\n",
       "    .dataframe thead th {\n",
       "        text-align: right;\n",
       "    }\n",
       "</style>\n",
       "<table border=\"1\" class=\"dataframe\">\n",
       "  <thead>\n",
       "    <tr style=\"text-align: right;\">\n",
       "      <th></th>\n",
       "      <th>label</th>\n",
       "      <th>feature_1</th>\n",
       "      <th>feature_2</th>\n",
       "      <th>feature_3</th>\n",
       "      <th>feature_4</th>\n",
       "      <th>feature_5</th>\n",
       "      <th>feature_6</th>\n",
       "      <th>feature_7</th>\n",
       "      <th>feature_8</th>\n",
       "      <th>feature_9</th>\n",
       "      <th>...</th>\n",
       "      <th>feature_26</th>\n",
       "      <th>feature_27</th>\n",
       "      <th>feature_28</th>\n",
       "      <th>feature_29</th>\n",
       "      <th>feature_30</th>\n",
       "      <th>feature_31</th>\n",
       "      <th>feature_32</th>\n",
       "      <th>feature_33</th>\n",
       "      <th>feature_34</th>\n",
       "      <th>feature_35</th>\n",
       "    </tr>\n",
       "  </thead>\n",
       "  <tbody>\n",
       "    <tr>\n",
       "      <th>count</th>\n",
       "      <td>1300.000000</td>\n",
       "      <td>1300.000000</td>\n",
       "      <td>1300.000000</td>\n",
       "      <td>1300.000000</td>\n",
       "      <td>1300.000000</td>\n",
       "      <td>1300.000000</td>\n",
       "      <td>1300.000000</td>\n",
       "      <td>1300.000000</td>\n",
       "      <td>1300.000000</td>\n",
       "      <td>1300.000000</td>\n",
       "      <td>...</td>\n",
       "      <td>1300.000000</td>\n",
       "      <td>1300.000000</td>\n",
       "      <td>1300.000000</td>\n",
       "      <td>1300.000000</td>\n",
       "      <td>1300.000000</td>\n",
       "      <td>1300.000000</td>\n",
       "      <td>1300.000000</td>\n",
       "      <td>1300.000000</td>\n",
       "      <td>1300.000000</td>\n",
       "      <td>1300.000000</td>\n",
       "    </tr>\n",
       "    <tr>\n",
       "      <th>mean</th>\n",
       "      <td>0.493846</td>\n",
       "      <td>0.185473</td>\n",
       "      <td>0.161497</td>\n",
       "      <td>0.630980</td>\n",
       "      <td>0.071110</td>\n",
       "      <td>0.647790</td>\n",
       "      <td>0.757459</td>\n",
       "      <td>-0.542927</td>\n",
       "      <td>0.539368</td>\n",
       "      <td>-0.429706</td>\n",
       "      <td>...</td>\n",
       "      <td>0.096798</td>\n",
       "      <td>0.087029</td>\n",
       "      <td>0.783566</td>\n",
       "      <td>0.137249</td>\n",
       "      <td>0.074562</td>\n",
       "      <td>-0.425704</td>\n",
       "      <td>0.104464</td>\n",
       "      <td>0.615429</td>\n",
       "      <td>0.115580</td>\n",
       "      <td>0.108541</td>\n",
       "    </tr>\n",
       "    <tr>\n",
       "      <th>std</th>\n",
       "      <td>0.500155</td>\n",
       "      <td>2.975859</td>\n",
       "      <td>2.802108</td>\n",
       "      <td>2.847829</td>\n",
       "      <td>2.841591</td>\n",
       "      <td>2.959652</td>\n",
       "      <td>2.951727</td>\n",
       "      <td>2.869888</td>\n",
       "      <td>2.932774</td>\n",
       "      <td>2.689219</td>\n",
       "      <td>...</td>\n",
       "      <td>0.998149</td>\n",
       "      <td>2.819894</td>\n",
       "      <td>5.974066</td>\n",
       "      <td>1.006109</td>\n",
       "      <td>0.966171</td>\n",
       "      <td>2.790838</td>\n",
       "      <td>1.001414</td>\n",
       "      <td>3.019351</td>\n",
       "      <td>1.014541</td>\n",
       "      <td>1.008466</td>\n",
       "    </tr>\n",
       "    <tr>\n",
       "      <th>min</th>\n",
       "      <td>0.000000</td>\n",
       "      <td>-8.243773</td>\n",
       "      <td>-9.997493</td>\n",
       "      <td>-8.841415</td>\n",
       "      <td>-9.227913</td>\n",
       "      <td>-9.120931</td>\n",
       "      <td>-8.853043</td>\n",
       "      <td>-11.303272</td>\n",
       "      <td>-8.788638</td>\n",
       "      <td>-9.078609</td>\n",
       "      <td>...</td>\n",
       "      <td>-3.614001</td>\n",
       "      <td>-9.459131</td>\n",
       "      <td>-16.801368</td>\n",
       "      <td>-3.116285</td>\n",
       "      <td>-3.802614</td>\n",
       "      <td>-9.533251</td>\n",
       "      <td>-3.358281</td>\n",
       "      <td>-9.381453</td>\n",
       "      <td>-3.120374</td>\n",
       "      <td>-2.808133</td>\n",
       "    </tr>\n",
       "    <tr>\n",
       "      <th>25%</th>\n",
       "      <td>0.000000</td>\n",
       "      <td>-1.777076</td>\n",
       "      <td>-1.815337</td>\n",
       "      <td>-1.275786</td>\n",
       "      <td>-1.825974</td>\n",
       "      <td>-1.339117</td>\n",
       "      <td>-1.249031</td>\n",
       "      <td>-2.537498</td>\n",
       "      <td>-1.336565</td>\n",
       "      <td>-2.281730</td>\n",
       "      <td>...</td>\n",
       "      <td>-0.594944</td>\n",
       "      <td>-1.758136</td>\n",
       "      <td>-3.385048</td>\n",
       "      <td>-0.516827</td>\n",
       "      <td>-0.578101</td>\n",
       "      <td>-2.240234</td>\n",
       "      <td>-0.555362</td>\n",
       "      <td>-1.279829</td>\n",
       "      <td>-0.557386</td>\n",
       "      <td>-0.590843</td>\n",
       "    </tr>\n",
       "    <tr>\n",
       "      <th>50%</th>\n",
       "      <td>0.000000</td>\n",
       "      <td>0.213624</td>\n",
       "      <td>0.098016</td>\n",
       "      <td>0.621447</td>\n",
       "      <td>-0.040531</td>\n",
       "      <td>0.746583</td>\n",
       "      <td>0.727509</td>\n",
       "      <td>-0.514977</td>\n",
       "      <td>0.609383</td>\n",
       "      <td>-0.420746</td>\n",
       "      <td>...</td>\n",
       "      <td>0.132035</td>\n",
       "      <td>0.008735</td>\n",
       "      <td>0.553334</td>\n",
       "      <td>0.131619</td>\n",
       "      <td>0.082264</td>\n",
       "      <td>-0.461137</td>\n",
       "      <td>0.078324</td>\n",
       "      <td>0.640733</td>\n",
       "      <td>0.116989</td>\n",
       "      <td>0.137621</td>\n",
       "    </tr>\n",
       "    <tr>\n",
       "      <th>75%</th>\n",
       "      <td>1.000000</td>\n",
       "      <td>2.124084</td>\n",
       "      <td>2.092229</td>\n",
       "      <td>2.602825</td>\n",
       "      <td>1.904934</td>\n",
       "      <td>2.665705</td>\n",
       "      <td>2.828170</td>\n",
       "      <td>1.467394</td>\n",
       "      <td>2.520398</td>\n",
       "      <td>1.467780</td>\n",
       "      <td>...</td>\n",
       "      <td>0.795014</td>\n",
       "      <td>2.093332</td>\n",
       "      <td>4.941866</td>\n",
       "      <td>0.815519</td>\n",
       "      <td>0.740479</td>\n",
       "      <td>1.526593</td>\n",
       "      <td>0.784713</td>\n",
       "      <td>2.586235</td>\n",
       "      <td>0.824599</td>\n",
       "      <td>0.793375</td>\n",
       "    </tr>\n",
       "    <tr>\n",
       "      <th>max</th>\n",
       "      <td>1.000000</td>\n",
       "      <td>10.353632</td>\n",
       "      <td>8.885814</td>\n",
       "      <td>9.785832</td>\n",
       "      <td>9.939302</td>\n",
       "      <td>12.301682</td>\n",
       "      <td>9.543605</td>\n",
       "      <td>8.827469</td>\n",
       "      <td>9.623313</td>\n",
       "      <td>7.469029</td>\n",
       "      <td>...</td>\n",
       "      <td>3.321757</td>\n",
       "      <td>8.636927</td>\n",
       "      <td>21.289065</td>\n",
       "      <td>2.980514</td>\n",
       "      <td>3.810377</td>\n",
       "      <td>9.041780</td>\n",
       "      <td>3.342625</td>\n",
       "      <td>11.870427</td>\n",
       "      <td>3.099619</td>\n",
       "      <td>3.302011</td>\n",
       "    </tr>\n",
       "  </tbody>\n",
       "</table>\n",
       "<p>8 rows × 36 columns</p>\n",
       "</div>"
      ],
      "text/plain": [
       "             label    feature_1    feature_2    feature_3    feature_4  \\\n",
       "count  1300.000000  1300.000000  1300.000000  1300.000000  1300.000000   \n",
       "mean      0.493846     0.185473     0.161497     0.630980     0.071110   \n",
       "std       0.500155     2.975859     2.802108     2.847829     2.841591   \n",
       "min       0.000000    -8.243773    -9.997493    -8.841415    -9.227913   \n",
       "25%       0.000000    -1.777076    -1.815337    -1.275786    -1.825974   \n",
       "50%       0.000000     0.213624     0.098016     0.621447    -0.040531   \n",
       "75%       1.000000     2.124084     2.092229     2.602825     1.904934   \n",
       "max       1.000000    10.353632     8.885814     9.785832     9.939302   \n",
       "\n",
       "         feature_5    feature_6    feature_7    feature_8    feature_9  ...  \\\n",
       "count  1300.000000  1300.000000  1300.000000  1300.000000  1300.000000  ...   \n",
       "mean      0.647790     0.757459    -0.542927     0.539368    -0.429706  ...   \n",
       "std       2.959652     2.951727     2.869888     2.932774     2.689219  ...   \n",
       "min      -9.120931    -8.853043   -11.303272    -8.788638    -9.078609  ...   \n",
       "25%      -1.339117    -1.249031    -2.537498    -1.336565    -2.281730  ...   \n",
       "50%       0.746583     0.727509    -0.514977     0.609383    -0.420746  ...   \n",
       "75%       2.665705     2.828170     1.467394     2.520398     1.467780  ...   \n",
       "max      12.301682     9.543605     8.827469     9.623313     7.469029  ...   \n",
       "\n",
       "        feature_26   feature_27   feature_28   feature_29   feature_30  \\\n",
       "count  1300.000000  1300.000000  1300.000000  1300.000000  1300.000000   \n",
       "mean      0.096798     0.087029     0.783566     0.137249     0.074562   \n",
       "std       0.998149     2.819894     5.974066     1.006109     0.966171   \n",
       "min      -3.614001    -9.459131   -16.801368    -3.116285    -3.802614   \n",
       "25%      -0.594944    -1.758136    -3.385048    -0.516827    -0.578101   \n",
       "50%       0.132035     0.008735     0.553334     0.131619     0.082264   \n",
       "75%       0.795014     2.093332     4.941866     0.815519     0.740479   \n",
       "max       3.321757     8.636927    21.289065     2.980514     3.810377   \n",
       "\n",
       "        feature_31   feature_32   feature_33   feature_34   feature_35  \n",
       "count  1300.000000  1300.000000  1300.000000  1300.000000  1300.000000  \n",
       "mean     -0.425704     0.104464     0.615429     0.115580     0.108541  \n",
       "std       2.790838     1.001414     3.019351     1.014541     1.008466  \n",
       "min      -9.533251    -3.358281    -9.381453    -3.120374    -2.808133  \n",
       "25%      -2.240234    -0.555362    -1.279829    -0.557386    -0.590843  \n",
       "50%      -0.461137     0.078324     0.640733     0.116989     0.137621  \n",
       "75%       1.526593     0.784713     2.586235     0.824599     0.793375  \n",
       "max       9.041780     3.342625    11.870427     3.099619     3.302011  \n",
       "\n",
       "[8 rows x 36 columns]"
      ]
     },
     "execution_count": 5,
     "metadata": {},
     "output_type": "execute_result"
    }
   ],
   "source": [
    "data.describe()"
   ]
  },
  {
   "cell_type": "markdown",
   "metadata": {},
   "source": [
    " "
   ]
  },
  {
   "cell_type": "code",
   "execution_count": 6,
   "metadata": {
    "scrolled": true
   },
   "outputs": [
    {
     "data": {
      "image/png": "[encoded data removed]",
      "text/plain": [
       "<Figure size 432x288 with 1 Axes>"
      ]
     },
     "metadata": {},
     "output_type": "display_data"
    }
   ],
   "source": [
    "sns.countplot(x=\"label\", data=data)\n",
    "plt.show()"
   ]
  },
  {
   "cell_type": "markdown",
   "metadata": {},
   "source": [
    "Targets are pretty balanced."
   ]
  },
  {
   "cell_type": "code",
   "execution_count": 7,
   "metadata": {
    "scrolled": true
   },
   "outputs": [
    {
     "data": {
      "image/png": "[encoded data removed]",
      "text/plain": [
       "<Figure size 800x800 with 1 Axes>"
      ]
     },
     "metadata": {},
     "output_type": "display_data"
    }
   ],
   "source": [
    "plt.figure(figsize=(10,10), dpi=80)\n",
    "sns.boxplot(data=data, orient=\"h\")\n",
    "plt.show()"
   ]
  },
  {
   "cell_type": "markdown",
   "metadata": {},
   "source": [
    "Boxplot graph is useful to show outliers."
   ]
  },
  {
   "cell_type": "code",
   "execution_count": 8,
   "metadata": {
    "scrolled": true
   },
   "outputs": [
    {
     "data": {
      "image/png": "[encoded data removed]",
      "text/plain": [
       "<Figure size 1080x1080 with 36 Axes>"
      ]
     },
     "metadata": {},
     "output_type": "display_data"
    }
   ],
   "source": [
    "data.hist(bins=50,figsize=(15,15), color='#58A4B0', )\n",
    "plt.show()"
   ]
  },
  {
   "cell_type": "markdown",
   "metadata": {},
   "source": [
    "Data seems to be already standardized"
   ]
  },
  {
   "cell_type": "code",
   "execution_count": 9,
   "metadata": {},
   "outputs": [
    {
     "data": {
      "image/png": "[encoded data removed]",
      "text/plain": [
       "<Figure size 975x520 with 1 Axes>"
      ]
     },
     "metadata": {},
     "output_type": "display_data"
    }
   ],
   "source": [
    "plt.figure(figsize=(15,8), dpi=65)\n",
    "sns.kdeplot(data=data.drop(columns=[\"label\"]))\n",
    "plt.show()"
   ]
  },
  {
   "cell_type": "code",
   "execution_count": 10,
   "metadata": {},
   "outputs": [
    {
     "data": {
      "text/plain": [
       "label         1.000000\n",
       "feature_25    0.239118\n",
       "feature_22    0.206072\n",
       "feature_7     0.202355\n",
       "feature_8     0.182262\n",
       "feature_15    0.181280\n",
       "feature_24    0.177959\n",
       "feature_6     0.150559\n",
       "feature_3     0.145356\n",
       "feature_21    0.131255\n",
       "feature_17    0.131255\n",
       "feature_28    0.128994\n",
       "feature_35    0.056790\n",
       "feature_4     0.025050\n",
       "feature_11    0.021220\n",
       "feature_27    0.015520\n",
       "feature_29   -0.003846\n",
       "feature_20   -0.004389\n",
       "feature_12   -0.007773\n",
       "feature_10   -0.008014\n",
       "feature_32   -0.009396\n",
       "feature_16   -0.012538\n",
       "feature_30   -0.018726\n",
       "feature_23   -0.024060\n",
       "feature_18   -0.028696\n",
       "feature_34   -0.029649\n",
       "feature_26   -0.038677\n",
       "feature_13   -0.040352\n",
       "feature_5    -0.149129\n",
       "feature_19   -0.160222\n",
       "feature_31   -0.162564\n",
       "feature_33   -0.171785\n",
       "feature_9    -0.205387\n",
       "feature_14   -0.231834\n",
       "feature_1    -0.346916\n",
       "feature_2    -0.350932\n",
       "Name: label, dtype: float64"
      ]
     },
     "execution_count": 10,
     "metadata": {},
     "output_type": "execute_result"
    }
   ],
   "source": [
    "corr_matrix = data.corr()\n",
    "corr_matrix[\"label\"].sort_values(ascending=False)"
   ]
  },
  {
   "cell_type": "code",
   "execution_count": 11,
   "metadata": {
    "scrolled": true
   },
   "outputs": [
    {
     "data": {
      "image/png": "[encoded data removed]",
      "text/plain": [
       "<Figure size 910x910 with 2 Axes>"
      ]
     },
     "metadata": {},
     "output_type": "display_data"
    }
   ],
   "source": [
    "plt.figure(figsize=(13,13), dpi=70)\n",
    "sns.heatmap(corr_matrix, cmap=\"viridis\", annot=False)\n",
    "plt.show()"
   ]
  },
  {
   "cell_type": "markdown",
   "metadata": {},
   "source": [
    "As we can see from the correlation matrix features 17 and 21 are perfectly correlated, so we can drop one of them."
   ]
  },
  {
   "cell_type": "code",
   "execution_count": 12,
   "metadata": {},
   "outputs": [],
   "source": [
    "data.drop(columns=[\"feature_21\"], inplace=True)"
   ]
  },
  {
   "cell_type": "markdown",
   "metadata": {},
   "source": [
    "I start dividing the sample data into features and targets:"
   ]
  },
  {
   "cell_type": "code",
   "execution_count": 13,
   "metadata": {},
   "outputs": [
    {
     "data": {
      "text/html": [
       "<div>\n",
       "<style scoped>\n",
       "    .dataframe tbody tr th:only-of-type {\n",
       "        vertical-align: middle;\n",
       "    }\n",
       "\n",
       "    .dataframe tbody tr th {\n",
       "        vertical-align: top;\n",
       "    }\n",
       "\n",
       "    .dataframe thead th {\n",
       "        text-align: right;\n",
       "    }\n",
       "</style>\n",
       "<table border=\"1\" class=\"dataframe\">\n",
       "  <thead>\n",
       "    <tr style=\"text-align: right;\">\n",
       "      <th></th>\n",
       "      <th>feature_1</th>\n",
       "      <th>feature_2</th>\n",
       "      <th>feature_3</th>\n",
       "      <th>feature_4</th>\n",
       "      <th>feature_5</th>\n",
       "      <th>feature_6</th>\n",
       "      <th>feature_7</th>\n",
       "      <th>feature_8</th>\n",
       "      <th>feature_9</th>\n",
       "      <th>feature_10</th>\n",
       "      <th>...</th>\n",
       "      <th>feature_26</th>\n",
       "      <th>feature_27</th>\n",
       "      <th>feature_28</th>\n",
       "      <th>feature_29</th>\n",
       "      <th>feature_30</th>\n",
       "      <th>feature_31</th>\n",
       "      <th>feature_32</th>\n",
       "      <th>feature_33</th>\n",
       "      <th>feature_34</th>\n",
       "      <th>feature_35</th>\n",
       "    </tr>\n",
       "  </thead>\n",
       "  <tbody>\n",
       "    <tr>\n",
       "      <th>0</th>\n",
       "      <td>1.611543</td>\n",
       "      <td>1.347034</td>\n",
       "      <td>-2.477540</td>\n",
       "      <td>-0.648427</td>\n",
       "      <td>2.997458</td>\n",
       "      <td>-2.055095</td>\n",
       "      <td>3.568420</td>\n",
       "      <td>0.024963</td>\n",
       "      <td>-3.470625</td>\n",
       "      <td>1.356695</td>\n",
       "      <td>...</td>\n",
       "      <td>0.711302</td>\n",
       "      <td>0.798683</td>\n",
       "      <td>0.077489</td>\n",
       "      <td>-0.324108</td>\n",
       "      <td>0.414428</td>\n",
       "      <td>-1.383401</td>\n",
       "      <td>-0.836751</td>\n",
       "      <td>-0.132047</td>\n",
       "      <td>0.978134</td>\n",
       "      <td>0.452313</td>\n",
       "    </tr>\n",
       "    <tr>\n",
       "      <th>1</th>\n",
       "      <td>3.917373</td>\n",
       "      <td>0.685988</td>\n",
       "      <td>-0.435554</td>\n",
       "      <td>0.899043</td>\n",
       "      <td>-2.362151</td>\n",
       "      <td>2.223814</td>\n",
       "      <td>-2.702898</td>\n",
       "      <td>2.791828</td>\n",
       "      <td>1.530117</td>\n",
       "      <td>0.723417</td>\n",
       "      <td>...</td>\n",
       "      <td>-0.890966</td>\n",
       "      <td>5.405726</td>\n",
       "      <td>5.581480</td>\n",
       "      <td>0.448252</td>\n",
       "      <td>0.612576</td>\n",
       "      <td>0.396112</td>\n",
       "      <td>-1.524673</td>\n",
       "      <td>-0.705357</td>\n",
       "      <td>-1.203355</td>\n",
       "      <td>-1.195607</td>\n",
       "    </tr>\n",
       "    <tr>\n",
       "      <th>2</th>\n",
       "      <td>2.717954</td>\n",
       "      <td>-0.445983</td>\n",
       "      <td>-7.872529</td>\n",
       "      <td>0.782025</td>\n",
       "      <td>8.430989</td>\n",
       "      <td>-1.996975</td>\n",
       "      <td>-4.425246</td>\n",
       "      <td>2.615590</td>\n",
       "      <td>2.043099</td>\n",
       "      <td>0.310694</td>\n",
       "      <td>...</td>\n",
       "      <td>-0.210772</td>\n",
       "      <td>4.398679</td>\n",
       "      <td>-0.812820</td>\n",
       "      <td>-0.558464</td>\n",
       "      <td>0.180165</td>\n",
       "      <td>2.864181</td>\n",
       "      <td>-1.126173</td>\n",
       "      <td>0.722848</td>\n",
       "      <td>0.591242</td>\n",
       "      <td>0.511108</td>\n",
       "    </tr>\n",
       "    <tr>\n",
       "      <th>3</th>\n",
       "      <td>1.901960</td>\n",
       "      <td>3.610109</td>\n",
       "      <td>0.348900</td>\n",
       "      <td>2.747855</td>\n",
       "      <td>-1.228065</td>\n",
       "      <td>2.019494</td>\n",
       "      <td>4.431741</td>\n",
       "      <td>2.575430</td>\n",
       "      <td>-0.418708</td>\n",
       "      <td>-0.114577</td>\n",
       "      <td>...</td>\n",
       "      <td>-0.481207</td>\n",
       "      <td>-1.440814</td>\n",
       "      <td>4.625129</td>\n",
       "      <td>1.435616</td>\n",
       "      <td>1.298017</td>\n",
       "      <td>-0.978501</td>\n",
       "      <td>0.236653</td>\n",
       "      <td>3.553453</td>\n",
       "      <td>0.391204</td>\n",
       "      <td>0.486531</td>\n",
       "    </tr>\n",
       "    <tr>\n",
       "      <th>4</th>\n",
       "      <td>-2.949714</td>\n",
       "      <td>-2.270315</td>\n",
       "      <td>0.779124</td>\n",
       "      <td>-5.032824</td>\n",
       "      <td>-1.979701</td>\n",
       "      <td>-0.234704</td>\n",
       "      <td>0.385286</td>\n",
       "      <td>-2.307705</td>\n",
       "      <td>-0.694062</td>\n",
       "      <td>-1.336652</td>\n",
       "      <td>...</td>\n",
       "      <td>-1.791299</td>\n",
       "      <td>-1.612790</td>\n",
       "      <td>5.289838</td>\n",
       "      <td>-1.487783</td>\n",
       "      <td>0.175782</td>\n",
       "      <td>-1.466157</td>\n",
       "      <td>-0.096423</td>\n",
       "      <td>0.203877</td>\n",
       "      <td>-0.340325</td>\n",
       "      <td>0.164393</td>\n",
       "    </tr>\n",
       "  </tbody>\n",
       "</table>\n",
       "<p>5 rows × 34 columns</p>\n",
       "</div>"
      ],
      "text/plain": [
       "   feature_1  feature_2  feature_3  feature_4  feature_5  feature_6  \\\n",
       "0   1.611543   1.347034  -2.477540  -0.648427   2.997458  -2.055095   \n",
       "1   3.917373   0.685988  -0.435554   0.899043  -2.362151   2.223814   \n",
       "2   2.717954  -0.445983  -7.872529   0.782025   8.430989  -1.996975   \n",
       "3   1.901960   3.610109   0.348900   2.747855  -1.228065   2.019494   \n",
       "4  -2.949714  -2.270315   0.779124  -5.032824  -1.979701  -0.234704   \n",
       "\n",
       "   feature_7  feature_8  feature_9  feature_10  ...  feature_26  feature_27  \\\n",
       "0   3.568420   0.024963  -3.470625    1.356695  ...    0.711302    0.798683   \n",
       "1  -2.702898   2.791828   1.530117    0.723417  ...   -0.890966    5.405726   \n",
       "2  -4.425246   2.615590   2.043099    0.310694  ...   -0.210772    4.398679   \n",
       "3   4.431741   2.575430  -0.418708   -0.114577  ...   -0.481207   -1.440814   \n",
       "4   0.385286  -2.307705  -0.694062   -1.336652  ...   -1.791299   -1.612790   \n",
       "\n",
       "   feature_28  feature_29  feature_30  feature_31  feature_32  feature_33  \\\n",
       "0    0.077489   -0.324108    0.414428   -1.383401   -0.836751   -0.132047   \n",
       "1    5.581480    0.448252    0.612576    0.396112   -1.524673   -0.705357   \n",
       "2   -0.812820   -0.558464    0.180165    2.864181   -1.126173    0.722848   \n",
       "3    4.625129    1.435616    1.298017   -0.978501    0.236653    3.553453   \n",
       "4    5.289838   -1.487783    0.175782   -1.466157   -0.096423    0.203877   \n",
       "\n",
       "   feature_34  feature_35  \n",
       "0    0.978134    0.452313  \n",
       "1   -1.203355   -1.195607  \n",
       "2    0.591242    0.511108  \n",
       "3    0.391204    0.486531  \n",
       "4   -0.340325    0.164393  \n",
       "\n",
       "[5 rows x 34 columns]"
      ]
     },
     "execution_count": 13,
     "metadata": {},
     "output_type": "execute_result"
    }
   ],
   "source": [
    "df = data.iloc[:, 1:]\n",
    "df.head()"
   ]
  },
  {
   "cell_type": "code",
   "execution_count": 14,
   "metadata": {
    "scrolled": true
   },
   "outputs": [
    {
     "data": {
      "text/plain": [
       "0    0\n",
       "1    0\n",
       "2    0\n",
       "3    0\n",
       "4    1\n",
       "Name: label, dtype: int64"
      ]
     },
     "execution_count": 14,
     "metadata": {},
     "output_type": "execute_result"
    }
   ],
   "source": [
    "targets = data.iloc[:,0]\n",
    "targets.head()"
   ]
  },
  {
   "cell_type": "markdown",
   "metadata": {},
   "source": [
    "# Data preparation\n"
   ]
  },
  {
   "cell_type": "code",
   "execution_count": 15,
   "metadata": {},
   "outputs": [],
   "source": [
    "pd.set_option('mode.chained_assignment',None) #to avoid display of chained assignment warning\n",
    "training_data, test_data = train_test_split(data, test_size=0.20)\n",
    "\n",
    "training_targets = training_data.iloc[:, 0] \n",
    "test_targets =  test_data.iloc[:, 0]\n",
    "\n",
    "training_data.drop(columns=[\"label\"], inplace=True)\n",
    "test_data.drop(columns=[\"label\"], inplace=True)"
   ]
  },
  {
   "cell_type": "markdown",
   "metadata": {},
   "source": [
    "I split the data set into training (80%) and test data (20%) "
   ]
  },
  {
   "cell_type": "code",
   "execution_count": 16,
   "metadata": {},
   "outputs": [
    {
     "data": {
      "text/html": [
       "<div>\n",
       "<style scoped>\n",
       "    .dataframe tbody tr th:only-of-type {\n",
       "        vertical-align: middle;\n",
       "    }\n",
       "\n",
       "    .dataframe tbody tr th {\n",
       "        vertical-align: top;\n",
       "    }\n",
       "\n",
       "    .dataframe thead th {\n",
       "        text-align: right;\n",
       "    }\n",
       "</style>\n",
       "<table border=\"1\" class=\"dataframe\">\n",
       "  <thead>\n",
       "    <tr style=\"text-align: right;\">\n",
       "      <th></th>\n",
       "      <th>feature_1</th>\n",
       "      <th>feature_2</th>\n",
       "      <th>feature_3</th>\n",
       "      <th>feature_4</th>\n",
       "      <th>feature_5</th>\n",
       "      <th>feature_6</th>\n",
       "      <th>feature_7</th>\n",
       "      <th>feature_8</th>\n",
       "      <th>feature_9</th>\n",
       "      <th>feature_10</th>\n",
       "      <th>...</th>\n",
       "      <th>feature_26</th>\n",
       "      <th>feature_27</th>\n",
       "      <th>feature_28</th>\n",
       "      <th>feature_29</th>\n",
       "      <th>feature_30</th>\n",
       "      <th>feature_31</th>\n",
       "      <th>feature_32</th>\n",
       "      <th>feature_33</th>\n",
       "      <th>feature_34</th>\n",
       "      <th>feature_35</th>\n",
       "    </tr>\n",
       "  </thead>\n",
       "  <tbody>\n",
       "    <tr>\n",
       "      <th>531</th>\n",
       "      <td>-2.636600</td>\n",
       "      <td>0.061421</td>\n",
       "      <td>-2.027404</td>\n",
       "      <td>-1.455697</td>\n",
       "      <td>0.818136</td>\n",
       "      <td>-3.922322</td>\n",
       "      <td>-2.519782</td>\n",
       "      <td>1.587167</td>\n",
       "      <td>0.690896</td>\n",
       "      <td>-0.732356</td>\n",
       "      <td>...</td>\n",
       "      <td>0.747748</td>\n",
       "      <td>0.027774</td>\n",
       "      <td>2.433042</td>\n",
       "      <td>0.073659</td>\n",
       "      <td>-1.377697</td>\n",
       "      <td>1.022616</td>\n",
       "      <td>0.306690</td>\n",
       "      <td>-0.200830</td>\n",
       "      <td>0.827174</td>\n",
       "      <td>1.710575</td>\n",
       "    </tr>\n",
       "    <tr>\n",
       "      <th>898</th>\n",
       "      <td>5.611555</td>\n",
       "      <td>-1.422616</td>\n",
       "      <td>-3.977288</td>\n",
       "      <td>0.800848</td>\n",
       "      <td>8.534995</td>\n",
       "      <td>0.831022</td>\n",
       "      <td>0.767428</td>\n",
       "      <td>-0.064908</td>\n",
       "      <td>-0.927350</td>\n",
       "      <td>-1.164449</td>\n",
       "      <td>...</td>\n",
       "      <td>1.249442</td>\n",
       "      <td>2.317738</td>\n",
       "      <td>-4.924685</td>\n",
       "      <td>-0.476034</td>\n",
       "      <td>1.359762</td>\n",
       "      <td>3.468280</td>\n",
       "      <td>-0.088972</td>\n",
       "      <td>3.047309</td>\n",
       "      <td>1.536984</td>\n",
       "      <td>0.646754</td>\n",
       "    </tr>\n",
       "    <tr>\n",
       "      <th>649</th>\n",
       "      <td>1.838720</td>\n",
       "      <td>2.104275</td>\n",
       "      <td>7.266012</td>\n",
       "      <td>-4.264073</td>\n",
       "      <td>2.479123</td>\n",
       "      <td>5.964623</td>\n",
       "      <td>-2.212567</td>\n",
       "      <td>-0.916837</td>\n",
       "      <td>-2.510224</td>\n",
       "      <td>0.164292</td>\n",
       "      <td>...</td>\n",
       "      <td>-1.160735</td>\n",
       "      <td>2.190320</td>\n",
       "      <td>-8.320628</td>\n",
       "      <td>2.980514</td>\n",
       "      <td>0.357570</td>\n",
       "      <td>-0.732714</td>\n",
       "      <td>0.175917</td>\n",
       "      <td>-1.092128</td>\n",
       "      <td>-0.799065</td>\n",
       "      <td>-0.854732</td>\n",
       "    </tr>\n",
       "    <tr>\n",
       "      <th>91</th>\n",
       "      <td>-2.338593</td>\n",
       "      <td>-1.246576</td>\n",
       "      <td>-4.252971</td>\n",
       "      <td>2.661043</td>\n",
       "      <td>3.399785</td>\n",
       "      <td>0.392903</td>\n",
       "      <td>-4.337690</td>\n",
       "      <td>5.131226</td>\n",
       "      <td>3.886949</td>\n",
       "      <td>-0.670135</td>\n",
       "      <td>...</td>\n",
       "      <td>0.424116</td>\n",
       "      <td>6.431987</td>\n",
       "      <td>4.971510</td>\n",
       "      <td>-1.717025</td>\n",
       "      <td>0.096648</td>\n",
       "      <td>7.066533</td>\n",
       "      <td>-0.449019</td>\n",
       "      <td>-0.304083</td>\n",
       "      <td>-2.160153</td>\n",
       "      <td>-1.251530</td>\n",
       "    </tr>\n",
       "    <tr>\n",
       "      <th>25</th>\n",
       "      <td>3.594480</td>\n",
       "      <td>2.254519</td>\n",
       "      <td>-0.705369</td>\n",
       "      <td>-0.233048</td>\n",
       "      <td>3.549119</td>\n",
       "      <td>-3.362007</td>\n",
       "      <td>2.533001</td>\n",
       "      <td>-5.516143</td>\n",
       "      <td>1.152320</td>\n",
       "      <td>-1.606734</td>\n",
       "      <td>...</td>\n",
       "      <td>0.295986</td>\n",
       "      <td>-0.524497</td>\n",
       "      <td>-1.608246</td>\n",
       "      <td>0.977937</td>\n",
       "      <td>0.435432</td>\n",
       "      <td>-4.075217</td>\n",
       "      <td>1.810792</td>\n",
       "      <td>2.261190</td>\n",
       "      <td>-0.574561</td>\n",
       "      <td>-0.814391</td>\n",
       "    </tr>\n",
       "    <tr>\n",
       "      <th>...</th>\n",
       "      <td>...</td>\n",
       "      <td>...</td>\n",
       "      <td>...</td>\n",
       "      <td>...</td>\n",
       "      <td>...</td>\n",
       "      <td>...</td>\n",
       "      <td>...</td>\n",
       "      <td>...</td>\n",
       "      <td>...</td>\n",
       "      <td>...</td>\n",
       "      <td>...</td>\n",
       "      <td>...</td>\n",
       "      <td>...</td>\n",
       "      <td>...</td>\n",
       "      <td>...</td>\n",
       "      <td>...</td>\n",
       "      <td>...</td>\n",
       "      <td>...</td>\n",
       "      <td>...</td>\n",
       "      <td>...</td>\n",
       "      <td>...</td>\n",
       "    </tr>\n",
       "    <tr>\n",
       "      <th>1163</th>\n",
       "      <td>0.752896</td>\n",
       "      <td>3.886839</td>\n",
       "      <td>-1.854651</td>\n",
       "      <td>-0.588657</td>\n",
       "      <td>4.199870</td>\n",
       "      <td>-0.007609</td>\n",
       "      <td>-2.524846</td>\n",
       "      <td>-0.310547</td>\n",
       "      <td>-2.253224</td>\n",
       "      <td>-0.317519</td>\n",
       "      <td>...</td>\n",
       "      <td>-0.929521</td>\n",
       "      <td>-0.683506</td>\n",
       "      <td>3.711042</td>\n",
       "      <td>-0.850693</td>\n",
       "      <td>-0.356719</td>\n",
       "      <td>-4.216020</td>\n",
       "      <td>-0.417601</td>\n",
       "      <td>2.901180</td>\n",
       "      <td>-0.078934</td>\n",
       "      <td>0.762473</td>\n",
       "    </tr>\n",
       "    <tr>\n",
       "      <th>1177</th>\n",
       "      <td>-2.681627</td>\n",
       "      <td>-0.307958</td>\n",
       "      <td>0.864478</td>\n",
       "      <td>-2.032858</td>\n",
       "      <td>-2.451474</td>\n",
       "      <td>1.440227</td>\n",
       "      <td>-3.704998</td>\n",
       "      <td>-3.693980</td>\n",
       "      <td>-0.895431</td>\n",
       "      <td>-0.134237</td>\n",
       "      <td>...</td>\n",
       "      <td>-0.610896</td>\n",
       "      <td>-1.584997</td>\n",
       "      <td>5.451195</td>\n",
       "      <td>-0.049683</td>\n",
       "      <td>0.348089</td>\n",
       "      <td>1.108674</td>\n",
       "      <td>-1.762181</td>\n",
       "      <td>1.903844</td>\n",
       "      <td>0.844799</td>\n",
       "      <td>0.969602</td>\n",
       "    </tr>\n",
       "    <tr>\n",
       "      <th>925</th>\n",
       "      <td>-3.014000</td>\n",
       "      <td>1.307954</td>\n",
       "      <td>1.559316</td>\n",
       "      <td>-1.725337</td>\n",
       "      <td>2.054830</td>\n",
       "      <td>-6.085456</td>\n",
       "      <td>-4.571000</td>\n",
       "      <td>-0.990013</td>\n",
       "      <td>1.684974</td>\n",
       "      <td>-1.105543</td>\n",
       "      <td>...</td>\n",
       "      <td>0.472491</td>\n",
       "      <td>0.712179</td>\n",
       "      <td>-6.823234</td>\n",
       "      <td>0.107829</td>\n",
       "      <td>0.696964</td>\n",
       "      <td>4.113776</td>\n",
       "      <td>0.573099</td>\n",
       "      <td>8.687704</td>\n",
       "      <td>-0.756804</td>\n",
       "      <td>-0.145844</td>\n",
       "    </tr>\n",
       "    <tr>\n",
       "      <th>105</th>\n",
       "      <td>6.057626</td>\n",
       "      <td>-2.055943</td>\n",
       "      <td>2.949005</td>\n",
       "      <td>-4.669404</td>\n",
       "      <td>2.126802</td>\n",
       "      <td>0.244755</td>\n",
       "      <td>-1.933787</td>\n",
       "      <td>2.769695</td>\n",
       "      <td>-1.604538</td>\n",
       "      <td>0.461161</td>\n",
       "      <td>...</td>\n",
       "      <td>1.075045</td>\n",
       "      <td>6.702129</td>\n",
       "      <td>-0.631548</td>\n",
       "      <td>1.053582</td>\n",
       "      <td>0.451032</td>\n",
       "      <td>-9.098523</td>\n",
       "      <td>-0.370444</td>\n",
       "      <td>-3.368931</td>\n",
       "      <td>2.383790</td>\n",
       "      <td>1.280730</td>\n",
       "    </tr>\n",
       "    <tr>\n",
       "      <th>473</th>\n",
       "      <td>-0.484368</td>\n",
       "      <td>-1.267441</td>\n",
       "      <td>3.283134</td>\n",
       "      <td>2.451610</td>\n",
       "      <td>-0.242103</td>\n",
       "      <td>6.238500</td>\n",
       "      <td>-0.514818</td>\n",
       "      <td>-0.435375</td>\n",
       "      <td>-1.375351</td>\n",
       "      <td>0.966954</td>\n",
       "      <td>...</td>\n",
       "      <td>-0.052625</td>\n",
       "      <td>-0.861015</td>\n",
       "      <td>-3.096916</td>\n",
       "      <td>-0.778111</td>\n",
       "      <td>0.426720</td>\n",
       "      <td>6.399194</td>\n",
       "      <td>0.113650</td>\n",
       "      <td>-1.744678</td>\n",
       "      <td>1.042078</td>\n",
       "      <td>-0.148739</td>\n",
       "    </tr>\n",
       "  </tbody>\n",
       "</table>\n",
       "<p>1040 rows × 34 columns</p>\n",
       "</div>"
      ],
      "text/plain": [
       "      feature_1  feature_2  feature_3  feature_4  feature_5  feature_6  \\\n",
       "531   -2.636600   0.061421  -2.027404  -1.455697   0.818136  -3.922322   \n",
       "898    5.611555  -1.422616  -3.977288   0.800848   8.534995   0.831022   \n",
       "649    1.838720   2.104275   7.266012  -4.264073   2.479123   5.964623   \n",
       "91    -2.338593  -1.246576  -4.252971   2.661043   3.399785   0.392903   \n",
       "25     3.594480   2.254519  -0.705369  -0.233048   3.549119  -3.362007   \n",
       "...         ...        ...        ...        ...        ...        ...   \n",
       "1163   0.752896   3.886839  -1.854651  -0.588657   4.199870  -0.007609   \n",
       "1177  -2.681627  -0.307958   0.864478  -2.032858  -2.451474   1.440227   \n",
       "925   -3.014000   1.307954   1.559316  -1.725337   2.054830  -6.085456   \n",
       "105    6.057626  -2.055943   2.949005  -4.669404   2.126802   0.244755   \n",
       "473   -0.484368  -1.267441   3.283134   2.451610  -0.242103   6.238500   \n",
       "\n",
       "      feature_7  feature_8  feature_9  feature_10  ...  feature_26  \\\n",
       "531   -2.519782   1.587167   0.690896   -0.732356  ...    0.747748   \n",
       "898    0.767428  -0.064908  -0.927350   -1.164449  ...    1.249442   \n",
       "649   -2.212567  -0.916837  -2.510224    0.164292  ...   -1.160735   \n",
       "91    -4.337690   5.131226   3.886949   -0.670135  ...    0.424116   \n",
       "25     2.533001  -5.516143   1.152320   -1.606734  ...    0.295986   \n",
       "...         ...        ...        ...         ...  ...         ...   \n",
       "1163  -2.524846  -0.310547  -2.253224   -0.317519  ...   -0.929521   \n",
       "1177  -3.704998  -3.693980  -0.895431   -0.134237  ...   -0.610896   \n",
       "925   -4.571000  -0.990013   1.684974   -1.105543  ...    0.472491   \n",
       "105   -1.933787   2.769695  -1.604538    0.461161  ...    1.075045   \n",
       "473   -0.514818  -0.435375  -1.375351    0.966954  ...   -0.052625   \n",
       "\n",
       "      feature_27  feature_28  feature_29  feature_30  feature_31  feature_32  \\\n",
       "531     0.027774    2.433042    0.073659   -1.377697    1.022616    0.306690   \n",
       "898     2.317738   -4.924685   -0.476034    1.359762    3.468280   -0.088972   \n",
       "649     2.190320   -8.320628    2.980514    0.357570   -0.732714    0.175917   \n",
       "91      6.431987    4.971510   -1.717025    0.096648    7.066533   -0.449019   \n",
       "25     -0.524497   -1.608246    0.977937    0.435432   -4.075217    1.810792   \n",
       "...          ...         ...         ...         ...         ...         ...   \n",
       "1163   -0.683506    3.711042   -0.850693   -0.356719   -4.216020   -0.417601   \n",
       "1177   -1.584997    5.451195   -0.049683    0.348089    1.108674   -1.762181   \n",
       "925     0.712179   -6.823234    0.107829    0.696964    4.113776    0.573099   \n",
       "105     6.702129   -0.631548    1.053582    0.451032   -9.098523   -0.370444   \n",
       "473    -0.861015   -3.096916   -0.778111    0.426720    6.399194    0.113650   \n",
       "\n",
       "      feature_33  feature_34  feature_35  \n",
       "531    -0.200830    0.827174    1.710575  \n",
       "898     3.047309    1.536984    0.646754  \n",
       "649    -1.092128   -0.799065   -0.854732  \n",
       "91     -0.304083   -2.160153   -1.251530  \n",
       "25      2.261190   -0.574561   -0.814391  \n",
       "...          ...         ...         ...  \n",
       "1163    2.901180   -0.078934    0.762473  \n",
       "1177    1.903844    0.844799    0.969602  \n",
       "925     8.687704   -0.756804   -0.145844  \n",
       "105    -3.368931    2.383790    1.280730  \n",
       "473    -1.744678    1.042078   -0.148739  \n",
       "\n",
       "[1040 rows x 34 columns]"
      ]
     },
     "execution_count": 16,
     "metadata": {},
     "output_type": "execute_result"
    }
   ],
   "source": [
    "training_data"
   ]
  },
  {
   "cell_type": "markdown",
   "metadata": {},
   "source": [
    "# Standardization"
   ]
  },
  {
   "cell_type": "code",
   "execution_count": 17,
   "metadata": {},
   "outputs": [],
   "source": [
    "from sklearn.preprocessing import StandardScaler"
   ]
  },
  {
   "cell_type": "code",
   "execution_count": 18,
   "metadata": {},
   "outputs": [
    {
     "data": {
      "text/plain": [
       "StandardScaler()"
      ]
     },
     "execution_count": 18,
     "metadata": {},
     "output_type": "execute_result"
    }
   ],
   "source": [
    "scaler= StandardScaler()\n",
    "scaler.fit(training_data)"
   ]
  },
  {
   "cell_type": "code",
   "execution_count": 19,
   "metadata": {},
   "outputs": [
    {
     "data": {
      "text/html": [
       "<div>\n",
       "<style scoped>\n",
       "    .dataframe tbody tr th:only-of-type {\n",
       "        vertical-align: middle;\n",
       "    }\n",
       "\n",
       "    .dataframe tbody tr th {\n",
       "        vertical-align: top;\n",
       "    }\n",
       "\n",
       "    .dataframe thead th {\n",
       "        text-align: right;\n",
       "    }\n",
       "</style>\n",
       "<table border=\"1\" class=\"dataframe\">\n",
       "  <thead>\n",
       "    <tr style=\"text-align: right;\">\n",
       "      <th></th>\n",
       "      <th>feature_1</th>\n",
       "      <th>feature_2</th>\n",
       "      <th>feature_3</th>\n",
       "      <th>feature_4</th>\n",
       "      <th>feature_5</th>\n",
       "      <th>feature_6</th>\n",
       "      <th>feature_7</th>\n",
       "      <th>feature_8</th>\n",
       "      <th>feature_9</th>\n",
       "      <th>feature_10</th>\n",
       "      <th>...</th>\n",
       "      <th>feature_26</th>\n",
       "      <th>feature_27</th>\n",
       "      <th>feature_28</th>\n",
       "      <th>feature_29</th>\n",
       "      <th>feature_30</th>\n",
       "      <th>feature_31</th>\n",
       "      <th>feature_32</th>\n",
       "      <th>feature_33</th>\n",
       "      <th>feature_34</th>\n",
       "      <th>feature_35</th>\n",
       "    </tr>\n",
       "  </thead>\n",
       "  <tbody>\n",
       "    <tr>\n",
       "      <th>0</th>\n",
       "      <td>-0.934430</td>\n",
       "      <td>-0.013054</td>\n",
       "      <td>-0.942290</td>\n",
       "      <td>-0.528493</td>\n",
       "      <td>0.072995</td>\n",
       "      <td>-1.599823</td>\n",
       "      <td>-0.693254</td>\n",
       "      <td>0.347657</td>\n",
       "      <td>0.405393</td>\n",
       "      <td>-0.827041</td>\n",
       "      <td>...</td>\n",
       "      <td>0.638938</td>\n",
       "      <td>-0.027248</td>\n",
       "      <td>0.245634</td>\n",
       "      <td>-0.078862</td>\n",
       "      <td>-1.518147</td>\n",
       "      <td>0.542682</td>\n",
       "      <td>0.166827</td>\n",
       "      <td>-0.278790</td>\n",
       "      <td>0.729369</td>\n",
       "      <td>1.584519</td>\n",
       "    </tr>\n",
       "    <tr>\n",
       "      <th>1</th>\n",
       "      <td>1.803670</td>\n",
       "      <td>-0.542616</td>\n",
       "      <td>-1.630106</td>\n",
       "      <td>0.269329</td>\n",
       "      <td>2.685917</td>\n",
       "      <td>0.013409</td>\n",
       "      <td>0.438640</td>\n",
       "      <td>-0.221823</td>\n",
       "      <td>-0.182033</td>\n",
       "      <td>-1.249851</td>\n",
       "      <td>...</td>\n",
       "      <td>1.137927</td>\n",
       "      <td>0.780884</td>\n",
       "      <td>-0.978359</td>\n",
       "      <td>-0.627734</td>\n",
       "      <td>1.326818</td>\n",
       "      <td>1.417226</td>\n",
       "      <td>-0.228356</td>\n",
       "      <td>0.804950</td>\n",
       "      <td>1.437460</td>\n",
       "      <td>0.530517</td>\n",
       "    </tr>\n",
       "    <tr>\n",
       "      <th>2</th>\n",
       "      <td>0.551220</td>\n",
       "      <td>0.715915</td>\n",
       "      <td>2.335935</td>\n",
       "      <td>-1.521421</td>\n",
       "      <td>0.635403</td>\n",
       "      <td>1.755695</td>\n",
       "      <td>-0.587470</td>\n",
       "      <td>-0.515488</td>\n",
       "      <td>-0.756618</td>\n",
       "      <td>0.050345</td>\n",
       "      <td>...</td>\n",
       "      <td>-1.259258</td>\n",
       "      <td>0.735918</td>\n",
       "      <td>-1.543291</td>\n",
       "      <td>2.823652</td>\n",
       "      <td>0.285267</td>\n",
       "      <td>-0.085006</td>\n",
       "      <td>0.036212</td>\n",
       "      <td>-0.576171</td>\n",
       "      <td>-0.892931</td>\n",
       "      <td>-0.957109</td>\n",
       "    </tr>\n",
       "    <tr>\n",
       "      <th>3</th>\n",
       "      <td>-0.835503</td>\n",
       "      <td>-0.479798</td>\n",
       "      <td>-1.727352</td>\n",
       "      <td>0.927019</td>\n",
       "      <td>0.947139</td>\n",
       "      <td>-0.135284</td>\n",
       "      <td>-1.319220</td>\n",
       "      <td>1.569316</td>\n",
       "      <td>1.565564</td>\n",
       "      <td>-0.766157</td>\n",
       "      <td>...</td>\n",
       "      <td>0.317051</td>\n",
       "      <td>2.232809</td>\n",
       "      <td>0.667920</td>\n",
       "      <td>-1.866872</td>\n",
       "      <td>0.014098</td>\n",
       "      <td>2.703923</td>\n",
       "      <td>-0.587968</td>\n",
       "      <td>-0.313240</td>\n",
       "      <td>-2.250722</td>\n",
       "      <td>-1.350245</td>\n",
       "    </tr>\n",
       "    <tr>\n",
       "      <th>4</th>\n",
       "      <td>1.134071</td>\n",
       "      <td>0.769528</td>\n",
       "      <td>-0.475946</td>\n",
       "      <td>-0.096214</td>\n",
       "      <td>0.997703</td>\n",
       "      <td>-1.409658</td>\n",
       "      <td>1.046585</td>\n",
       "      <td>-2.100895</td>\n",
       "      <td>0.572890</td>\n",
       "      <td>-1.682635</td>\n",
       "      <td>...</td>\n",
       "      <td>0.189611</td>\n",
       "      <td>-0.222145</td>\n",
       "      <td>-0.426654</td>\n",
       "      <td>0.824065</td>\n",
       "      <td>0.366188</td>\n",
       "      <td>-1.280250</td>\n",
       "      <td>1.669111</td>\n",
       "      <td>0.542662</td>\n",
       "      <td>-0.668971</td>\n",
       "      <td>-0.917141</td>\n",
       "    </tr>\n",
       "    <tr>\n",
       "      <th>...</th>\n",
       "      <td>...</td>\n",
       "      <td>...</td>\n",
       "      <td>...</td>\n",
       "      <td>...</td>\n",
       "      <td>...</td>\n",
       "      <td>...</td>\n",
       "      <td>...</td>\n",
       "      <td>...</td>\n",
       "      <td>...</td>\n",
       "      <td>...</td>\n",
       "      <td>...</td>\n",
       "      <td>...</td>\n",
       "      <td>...</td>\n",
       "      <td>...</td>\n",
       "      <td>...</td>\n",
       "      <td>...</td>\n",
       "      <td>...</td>\n",
       "      <td>...</td>\n",
       "      <td>...</td>\n",
       "      <td>...</td>\n",
       "      <td>...</td>\n",
       "    </tr>\n",
       "    <tr>\n",
       "      <th>1035</th>\n",
       "      <td>0.190764</td>\n",
       "      <td>1.352004</td>\n",
       "      <td>-0.881352</td>\n",
       "      <td>-0.221943</td>\n",
       "      <td>1.218047</td>\n",
       "      <td>-0.271213</td>\n",
       "      <td>-0.694998</td>\n",
       "      <td>-0.306496</td>\n",
       "      <td>-0.663327</td>\n",
       "      <td>-0.421116</td>\n",
       "      <td>...</td>\n",
       "      <td>-1.029290</td>\n",
       "      <td>-0.278260</td>\n",
       "      <td>0.458235</td>\n",
       "      <td>-1.001834</td>\n",
       "      <td>-0.457073</td>\n",
       "      <td>-1.330599</td>\n",
       "      <td>-0.556588</td>\n",
       "      <td>0.756194</td>\n",
       "      <td>-0.174544</td>\n",
       "      <td>0.645168</td>\n",
       "    </tr>\n",
       "    <tr>\n",
       "      <th>1036</th>\n",
       "      <td>-0.949378</td>\n",
       "      <td>-0.144863</td>\n",
       "      <td>0.077813</td>\n",
       "      <td>-0.732554</td>\n",
       "      <td>-1.034093</td>\n",
       "      <td>0.220166</td>\n",
       "      <td>-1.101363</td>\n",
       "      <td>-1.472785</td>\n",
       "      <td>-0.170446</td>\n",
       "      <td>-0.241771</td>\n",
       "      <td>...</td>\n",
       "      <td>-0.712383</td>\n",
       "      <td>-0.596397</td>\n",
       "      <td>0.747718</td>\n",
       "      <td>-0.202020</td>\n",
       "      <td>0.275414</td>\n",
       "      <td>0.573455</td>\n",
       "      <td>-1.899543</td>\n",
       "      <td>0.423434</td>\n",
       "      <td>0.746952</td>\n",
       "      <td>0.850385</td>\n",
       "    </tr>\n",
       "    <tr>\n",
       "      <th>1037</th>\n",
       "      <td>-1.059714</td>\n",
       "      <td>0.431757</td>\n",
       "      <td>0.322915</td>\n",
       "      <td>-0.623827</td>\n",
       "      <td>0.491738</td>\n",
       "      <td>-2.333966</td>\n",
       "      <td>-1.399557</td>\n",
       "      <td>-0.540712</td>\n",
       "      <td>0.766244</td>\n",
       "      <td>-1.192211</td>\n",
       "      <td>...</td>\n",
       "      <td>0.365165</td>\n",
       "      <td>0.214280</td>\n",
       "      <td>-1.294192</td>\n",
       "      <td>-0.044743</td>\n",
       "      <td>0.637990</td>\n",
       "      <td>1.648048</td>\n",
       "      <td>0.432915</td>\n",
       "      <td>2.686866</td>\n",
       "      <td>-0.850773</td>\n",
       "      <td>-0.254765</td>\n",
       "    </tr>\n",
       "    <tr>\n",
       "      <th>1038</th>\n",
       "      <td>1.951750</td>\n",
       "      <td>-0.768612</td>\n",
       "      <td>0.813124</td>\n",
       "      <td>-1.664729</td>\n",
       "      <td>0.516108</td>\n",
       "      <td>-0.185564</td>\n",
       "      <td>-0.491477</td>\n",
       "      <td>0.755282</td>\n",
       "      <td>-0.427853</td>\n",
       "      <td>0.340836</td>\n",
       "      <td>...</td>\n",
       "      <td>0.964471</td>\n",
       "      <td>2.328143</td>\n",
       "      <td>-0.264175</td>\n",
       "      <td>0.899597</td>\n",
       "      <td>0.382400</td>\n",
       "      <td>-3.076532</td>\n",
       "      <td>-0.509488</td>\n",
       "      <td>-1.335826</td>\n",
       "      <td>2.282215</td>\n",
       "      <td>1.158642</td>\n",
       "    </tr>\n",
       "    <tr>\n",
       "      <th>1039</th>\n",
       "      <td>-0.219965</td>\n",
       "      <td>-0.487244</td>\n",
       "      <td>0.930987</td>\n",
       "      <td>0.852972</td>\n",
       "      <td>-0.286001</td>\n",
       "      <td>1.848646</td>\n",
       "      <td>-0.002879</td>\n",
       "      <td>-0.349525</td>\n",
       "      <td>-0.344658</td>\n",
       "      <td>0.835763</td>\n",
       "      <td>...</td>\n",
       "      <td>-0.157121</td>\n",
       "      <td>-0.340903</td>\n",
       "      <td>-0.674301</td>\n",
       "      <td>-0.929360</td>\n",
       "      <td>0.357134</td>\n",
       "      <td>2.465290</td>\n",
       "      <td>-0.025980</td>\n",
       "      <td>-0.793894</td>\n",
       "      <td>0.943753</td>\n",
       "      <td>-0.257633</td>\n",
       "    </tr>\n",
       "  </tbody>\n",
       "</table>\n",
       "<p>1040 rows × 34 columns</p>\n",
       "</div>"
      ],
      "text/plain": [
       "      feature_1  feature_2  feature_3  feature_4  feature_5  feature_6  \\\n",
       "0     -0.934430  -0.013054  -0.942290  -0.528493   0.072995  -1.599823   \n",
       "1      1.803670  -0.542616  -1.630106   0.269329   2.685917   0.013409   \n",
       "2      0.551220   0.715915   2.335935  -1.521421   0.635403   1.755695   \n",
       "3     -0.835503  -0.479798  -1.727352   0.927019   0.947139  -0.135284   \n",
       "4      1.134071   0.769528  -0.475946  -0.096214   0.997703  -1.409658   \n",
       "...         ...        ...        ...        ...        ...        ...   \n",
       "1035   0.190764   1.352004  -0.881352  -0.221943   1.218047  -0.271213   \n",
       "1036  -0.949378  -0.144863   0.077813  -0.732554  -1.034093   0.220166   \n",
       "1037  -1.059714   0.431757   0.322915  -0.623827   0.491738  -2.333966   \n",
       "1038   1.951750  -0.768612   0.813124  -1.664729   0.516108  -0.185564   \n",
       "1039  -0.219965  -0.487244   0.930987   0.852972  -0.286001   1.848646   \n",
       "\n",
       "      feature_7  feature_8  feature_9  feature_10  ...  feature_26  \\\n",
       "0     -0.693254   0.347657   0.405393   -0.827041  ...    0.638938   \n",
       "1      0.438640  -0.221823  -0.182033   -1.249851  ...    1.137927   \n",
       "2     -0.587470  -0.515488  -0.756618    0.050345  ...   -1.259258   \n",
       "3     -1.319220   1.569316   1.565564   -0.766157  ...    0.317051   \n",
       "4      1.046585  -2.100895   0.572890   -1.682635  ...    0.189611   \n",
       "...         ...        ...        ...         ...  ...         ...   \n",
       "1035  -0.694998  -0.306496  -0.663327   -0.421116  ...   -1.029290   \n",
       "1036  -1.101363  -1.472785  -0.170446   -0.241771  ...   -0.712383   \n",
       "1037  -1.399557  -0.540712   0.766244   -1.192211  ...    0.365165   \n",
       "1038  -0.491477   0.755282  -0.427853    0.340836  ...    0.964471   \n",
       "1039  -0.002879  -0.349525  -0.344658    0.835763  ...   -0.157121   \n",
       "\n",
       "      feature_27  feature_28  feature_29  feature_30  feature_31  feature_32  \\\n",
       "0      -0.027248    0.245634   -0.078862   -1.518147    0.542682    0.166827   \n",
       "1       0.780884   -0.978359   -0.627734    1.326818    1.417226   -0.228356   \n",
       "2       0.735918   -1.543291    2.823652    0.285267   -0.085006    0.036212   \n",
       "3       2.232809    0.667920   -1.866872    0.014098    2.703923   -0.587968   \n",
       "4      -0.222145   -0.426654    0.824065    0.366188   -1.280250    1.669111   \n",
       "...          ...         ...         ...         ...         ...         ...   \n",
       "1035   -0.278260    0.458235   -1.001834   -0.457073   -1.330599   -0.556588   \n",
       "1036   -0.596397    0.747718   -0.202020    0.275414    0.573455   -1.899543   \n",
       "1037    0.214280   -1.294192   -0.044743    0.637990    1.648048    0.432915   \n",
       "1038    2.328143   -0.264175    0.899597    0.382400   -3.076532   -0.509488   \n",
       "1039   -0.340903   -0.674301   -0.929360    0.357134    2.465290   -0.025980   \n",
       "\n",
       "      feature_33  feature_34  feature_35  \n",
       "0      -0.278790    0.729369    1.584519  \n",
       "1       0.804950    1.437460    0.530517  \n",
       "2      -0.576171   -0.892931   -0.957109  \n",
       "3      -0.313240   -2.250722   -1.350245  \n",
       "4       0.542662   -0.668971   -0.917141  \n",
       "...          ...         ...         ...  \n",
       "1035    0.756194   -0.174544    0.645168  \n",
       "1036    0.423434    0.746952    0.850385  \n",
       "1037    2.686866   -0.850773   -0.254765  \n",
       "1038   -1.335826    2.282215    1.158642  \n",
       "1039   -0.793894    0.943753   -0.257633  \n",
       "\n",
       "[1040 rows x 34 columns]"
      ]
     },
     "execution_count": 19,
     "metadata": {},
     "output_type": "execute_result"
    }
   ],
   "source": [
    "training_scaled_data= pd.DataFrame(scaler.transform(training_data))\n",
    "training_scaled_data.columns = list(df.columns)\n",
    "\n",
    "test_scaled_data= pd.DataFrame(scaler.transform(test_data))\n",
    "test_scaled_data.columns = list(df.columns)\n",
    "\n",
    "df_st = np.concatenate((training_scaled_data.copy(), test_scaled_data.copy()), axis = 0) #to store all the standadized data for later\n",
    "\n",
    "training_scaled_data"
   ]
  },
  {
   "cell_type": "markdown",
   "metadata": {},
   "source": [
    "I decided to convert my data after scaling into Pandas DataFrame to visualize it better."
   ]
  },
  {
   "cell_type": "code",
   "execution_count": 20,
   "metadata": {},
   "outputs": [
    {
     "data": {
      "text/html": [
       "<div>\n",
       "<style scoped>\n",
       "    .dataframe tbody tr th:only-of-type {\n",
       "        vertical-align: middle;\n",
       "    }\n",
       "\n",
       "    .dataframe tbody tr th {\n",
       "        vertical-align: top;\n",
       "    }\n",
       "\n",
       "    .dataframe thead th {\n",
       "        text-align: right;\n",
       "    }\n",
       "</style>\n",
       "<table border=\"1\" class=\"dataframe\">\n",
       "  <thead>\n",
       "    <tr style=\"text-align: right;\">\n",
       "      <th></th>\n",
       "      <th>feature_1</th>\n",
       "      <th>feature_2</th>\n",
       "      <th>feature_3</th>\n",
       "      <th>feature_4</th>\n",
       "      <th>feature_5</th>\n",
       "      <th>feature_6</th>\n",
       "      <th>feature_7</th>\n",
       "      <th>feature_8</th>\n",
       "      <th>feature_9</th>\n",
       "      <th>feature_10</th>\n",
       "      <th>...</th>\n",
       "      <th>feature_26</th>\n",
       "      <th>feature_27</th>\n",
       "      <th>feature_28</th>\n",
       "      <th>feature_29</th>\n",
       "      <th>feature_30</th>\n",
       "      <th>feature_31</th>\n",
       "      <th>feature_32</th>\n",
       "      <th>feature_33</th>\n",
       "      <th>feature_34</th>\n",
       "      <th>feature_35</th>\n",
       "    </tr>\n",
       "  </thead>\n",
       "  <tbody>\n",
       "    <tr>\n",
       "      <th>count</th>\n",
       "      <td>1.040000e+03</td>\n",
       "      <td>1.040000e+03</td>\n",
       "      <td>1.040000e+03</td>\n",
       "      <td>1.040000e+03</td>\n",
       "      <td>1.040000e+03</td>\n",
       "      <td>1.040000e+03</td>\n",
       "      <td>1.040000e+03</td>\n",
       "      <td>1.040000e+03</td>\n",
       "      <td>1.040000e+03</td>\n",
       "      <td>1.040000e+03</td>\n",
       "      <td>...</td>\n",
       "      <td>1.040000e+03</td>\n",
       "      <td>1.040000e+03</td>\n",
       "      <td>1.040000e+03</td>\n",
       "      <td>1.040000e+03</td>\n",
       "      <td>1.040000e+03</td>\n",
       "      <td>1.040000e+03</td>\n",
       "      <td>1.040000e+03</td>\n",
       "      <td>1.040000e+03</td>\n",
       "      <td>1.040000e+03</td>\n",
       "      <td>1.040000e+03</td>\n",
       "    </tr>\n",
       "    <tr>\n",
       "      <th>mean</th>\n",
       "      <td>-2.506008e-17</td>\n",
       "      <td>-1.206300e-17</td>\n",
       "      <td>7.472655e-18</td>\n",
       "      <td>4.109960e-17</td>\n",
       "      <td>1.387779e-18</td>\n",
       "      <td>3.864430e-17</td>\n",
       "      <td>4.095866e-17</td>\n",
       "      <td>3.202566e-19</td>\n",
       "      <td>-4.019221e-17</td>\n",
       "      <td>4.910602e-18</td>\n",
       "      <td>...</td>\n",
       "      <td>-1.801444e-17</td>\n",
       "      <td>-3.672276e-17</td>\n",
       "      <td>-1.227650e-17</td>\n",
       "      <td>6.533235e-17</td>\n",
       "      <td>-1.547907e-17</td>\n",
       "      <td>1.152924e-17</td>\n",
       "      <td>-6.501877e-18</td>\n",
       "      <td>-2.775558e-17</td>\n",
       "      <td>-6.405133e-19</td>\n",
       "      <td>-8.593553e-18</td>\n",
       "    </tr>\n",
       "    <tr>\n",
       "      <th>std</th>\n",
       "      <td>1.000481e+00</td>\n",
       "      <td>1.000481e+00</td>\n",
       "      <td>1.000481e+00</td>\n",
       "      <td>1.000481e+00</td>\n",
       "      <td>1.000481e+00</td>\n",
       "      <td>1.000481e+00</td>\n",
       "      <td>1.000481e+00</td>\n",
       "      <td>1.000481e+00</td>\n",
       "      <td>1.000481e+00</td>\n",
       "      <td>1.000481e+00</td>\n",
       "      <td>...</td>\n",
       "      <td>1.000481e+00</td>\n",
       "      <td>1.000481e+00</td>\n",
       "      <td>1.000481e+00</td>\n",
       "      <td>1.000481e+00</td>\n",
       "      <td>1.000481e+00</td>\n",
       "      <td>1.000481e+00</td>\n",
       "      <td>1.000481e+00</td>\n",
       "      <td>1.000481e+00</td>\n",
       "      <td>1.000481e+00</td>\n",
       "      <td>1.000481e+00</td>\n",
       "    </tr>\n",
       "    <tr>\n",
       "      <th>min</th>\n",
       "      <td>-2.795817e+00</td>\n",
       "      <td>-3.602465e+00</td>\n",
       "      <td>-3.345912e+00</td>\n",
       "      <td>-3.276433e+00</td>\n",
       "      <td>-3.292365e+00</td>\n",
       "      <td>-3.273254e+00</td>\n",
       "      <td>-3.717699e+00</td>\n",
       "      <td>-3.228944e+00</td>\n",
       "      <td>-3.140951e+00</td>\n",
       "      <td>-2.704623e+00</td>\n",
       "      <td>...</td>\n",
       "      <td>-3.699300e+00</td>\n",
       "      <td>-3.375191e+00</td>\n",
       "      <td>-2.954103e+00</td>\n",
       "      <td>-3.046540e+00</td>\n",
       "      <td>-3.205203e+00</td>\n",
       "      <td>-3.231986e+00</td>\n",
       "      <td>-3.493713e+00</td>\n",
       "      <td>-3.341901e+00</td>\n",
       "      <td>-3.208617e+00</td>\n",
       "      <td>-2.755335e+00</td>\n",
       "    </tr>\n",
       "    <tr>\n",
       "      <th>25%</th>\n",
       "      <td>-6.717056e-01</td>\n",
       "      <td>-7.003729e-01</td>\n",
       "      <td>-6.811087e-01</td>\n",
       "      <td>-6.698245e-01</td>\n",
       "      <td>-6.866447e-01</td>\n",
       "      <td>-6.851486e-01</td>\n",
       "      <td>-7.073172e-01</td>\n",
       "      <td>-6.322539e-01</td>\n",
       "      <td>-6.953431e-01</td>\n",
       "      <td>-7.323876e-01</td>\n",
       "      <td>...</td>\n",
       "      <td>-7.105541e-01</td>\n",
       "      <td>-6.688002e-01</td>\n",
       "      <td>-7.082827e-01</td>\n",
       "      <td>-6.695564e-01</td>\n",
       "      <td>-6.730194e-01</td>\n",
       "      <td>-6.463267e-01</td>\n",
       "      <td>-6.495621e-01</td>\n",
       "      <td>-6.180566e-01</td>\n",
       "      <td>-6.881066e-01</td>\n",
       "      <td>-7.023598e-01</td>\n",
       "    </tr>\n",
       "    <tr>\n",
       "      <th>50%</th>\n",
       "      <td>9.283807e-03</td>\n",
       "      <td>-3.277094e-03</td>\n",
       "      <td>-2.953062e-02</td>\n",
       "      <td>-5.853934e-02</td>\n",
       "      <td>4.565305e-02</td>\n",
       "      <td>-1.949317e-02</td>\n",
       "      <td>1.414565e-02</td>\n",
       "      <td>2.228286e-02</td>\n",
       "      <td>5.991687e-03</td>\n",
       "      <td>-2.081821e-03</td>\n",
       "      <td>...</td>\n",
       "      <td>3.844878e-02</td>\n",
       "      <td>-2.574705e-02</td>\n",
       "      <td>-3.761387e-02</td>\n",
       "      <td>4.185463e-03</td>\n",
       "      <td>-8.505057e-04</td>\n",
       "      <td>-1.726428e-03</td>\n",
       "      <td>-8.978137e-03</td>\n",
       "      <td>-5.257742e-03</td>\n",
       "      <td>-1.150929e-02</td>\n",
       "      <td>1.192340e-02</td>\n",
       "    </tr>\n",
       "    <tr>\n",
       "      <th>75%</th>\n",
       "      <td>6.289974e-01</td>\n",
       "      <td>7.005573e-01</td>\n",
       "      <td>7.089157e-01</td>\n",
       "      <td>6.642639e-01</td>\n",
       "      <td>6.889659e-01</td>\n",
       "      <td>7.088186e-01</td>\n",
       "      <td>7.099472e-01</td>\n",
       "      <td>6.570059e-01</td>\n",
       "      <td>6.892634e-01</td>\n",
       "      <td>6.546148e-01</td>\n",
       "      <td>...</td>\n",
       "      <td>6.942378e-01</td>\n",
       "      <td>7.139311e-01</td>\n",
       "      <td>7.044245e-01</td>\n",
       "      <td>6.677209e-01</td>\n",
       "      <td>6.820632e-01</td>\n",
       "      <td>6.954211e-01</td>\n",
       "      <td>6.738871e-01</td>\n",
       "      <td>6.747698e-01</td>\n",
       "      <td>7.060197e-01</td>\n",
       "      <td>6.845332e-01</td>\n",
       "    </tr>\n",
       "    <tr>\n",
       "      <th>max</th>\n",
       "      <td>3.377874e+00</td>\n",
       "      <td>3.135832e+00</td>\n",
       "      <td>3.224794e+00</td>\n",
       "      <td>3.500315e+00</td>\n",
       "      <td>3.943713e+00</td>\n",
       "      <td>2.970361e+00</td>\n",
       "      <td>3.213978e+00</td>\n",
       "      <td>3.117765e+00</td>\n",
       "      <td>2.865864e+00</td>\n",
       "      <td>3.032042e+00</td>\n",
       "      <td>...</td>\n",
       "      <td>2.638842e+00</td>\n",
       "      <td>2.769723e+00</td>\n",
       "      <td>3.382424e+00</td>\n",
       "      <td>2.823652e+00</td>\n",
       "      <td>3.873674e+00</td>\n",
       "      <td>3.410251e+00</td>\n",
       "      <td>3.199093e+00</td>\n",
       "      <td>2.944134e+00</td>\n",
       "      <td>2.996310e+00</td>\n",
       "      <td>3.161264e+00</td>\n",
       "    </tr>\n",
       "  </tbody>\n",
       "</table>\n",
       "<p>8 rows × 34 columns</p>\n",
       "</div>"
      ],
      "text/plain": [
       "          feature_1     feature_2     feature_3     feature_4     feature_5  \\\n",
       "count  1.040000e+03  1.040000e+03  1.040000e+03  1.040000e+03  1.040000e+03   \n",
       "mean  -2.506008e-17 -1.206300e-17  7.472655e-18  4.109960e-17  1.387779e-18   \n",
       "std    1.000481e+00  1.000481e+00  1.000481e+00  1.000481e+00  1.000481e+00   \n",
       "min   -2.795817e+00 -3.602465e+00 -3.345912e+00 -3.276433e+00 -3.292365e+00   \n",
       "25%   -6.717056e-01 -7.003729e-01 -6.811087e-01 -6.698245e-01 -6.866447e-01   \n",
       "50%    9.283807e-03 -3.277094e-03 -2.953062e-02 -5.853934e-02  4.565305e-02   \n",
       "75%    6.289974e-01  7.005573e-01  7.089157e-01  6.642639e-01  6.889659e-01   \n",
       "max    3.377874e+00  3.135832e+00  3.224794e+00  3.500315e+00  3.943713e+00   \n",
       "\n",
       "          feature_6     feature_7     feature_8     feature_9    feature_10  \\\n",
       "count  1.040000e+03  1.040000e+03  1.040000e+03  1.040000e+03  1.040000e+03   \n",
       "mean   3.864430e-17  4.095866e-17  3.202566e-19 -4.019221e-17  4.910602e-18   \n",
       "std    1.000481e+00  1.000481e+00  1.000481e+00  1.000481e+00  1.000481e+00   \n",
       "min   -3.273254e+00 -3.717699e+00 -3.228944e+00 -3.140951e+00 -2.704623e+00   \n",
       "25%   -6.851486e-01 -7.073172e-01 -6.322539e-01 -6.953431e-01 -7.323876e-01   \n",
       "50%   -1.949317e-02  1.414565e-02  2.228286e-02  5.991687e-03 -2.081821e-03   \n",
       "75%    7.088186e-01  7.099472e-01  6.570059e-01  6.892634e-01  6.546148e-01   \n",
       "max    2.970361e+00  3.213978e+00  3.117765e+00  2.865864e+00  3.032042e+00   \n",
       "\n",
       "       ...    feature_26    feature_27    feature_28    feature_29  \\\n",
       "count  ...  1.040000e+03  1.040000e+03  1.040000e+03  1.040000e+03   \n",
       "mean   ... -1.801444e-17 -3.672276e-17 -1.227650e-17  6.533235e-17   \n",
       "std    ...  1.000481e+00  1.000481e+00  1.000481e+00  1.000481e+00   \n",
       "min    ... -3.699300e+00 -3.375191e+00 -2.954103e+00 -3.046540e+00   \n",
       "25%    ... -7.105541e-01 -6.688002e-01 -7.082827e-01 -6.695564e-01   \n",
       "50%    ...  3.844878e-02 -2.574705e-02 -3.761387e-02  4.185463e-03   \n",
       "75%    ...  6.942378e-01  7.139311e-01  7.044245e-01  6.677209e-01   \n",
       "max    ...  2.638842e+00  2.769723e+00  3.382424e+00  2.823652e+00   \n",
       "\n",
       "         feature_30    feature_31    feature_32    feature_33    feature_34  \\\n",
       "count  1.040000e+03  1.040000e+03  1.040000e+03  1.040000e+03  1.040000e+03   \n",
       "mean  -1.547907e-17  1.152924e-17 -6.501877e-18 -2.775558e-17 -6.405133e-19   \n",
       "std    1.000481e+00  1.000481e+00  1.000481e+00  1.000481e+00  1.000481e+00   \n",
       "min   -3.205203e+00 -3.231986e+00 -3.493713e+00 -3.341901e+00 -3.208617e+00   \n",
       "25%   -6.730194e-01 -6.463267e-01 -6.495621e-01 -6.180566e-01 -6.881066e-01   \n",
       "50%   -8.505057e-04 -1.726428e-03 -8.978137e-03 -5.257742e-03 -1.150929e-02   \n",
       "75%    6.820632e-01  6.954211e-01  6.738871e-01  6.747698e-01  7.060197e-01   \n",
       "max    3.873674e+00  3.410251e+00  3.199093e+00  2.944134e+00  2.996310e+00   \n",
       "\n",
       "         feature_35  \n",
       "count  1.040000e+03  \n",
       "mean  -8.593553e-18  \n",
       "std    1.000481e+00  \n",
       "min   -2.755335e+00  \n",
       "25%   -7.023598e-01  \n",
       "50%    1.192340e-02  \n",
       "75%    6.845332e-01  \n",
       "max    3.161264e+00  \n",
       "\n",
       "[8 rows x 34 columns]"
      ]
     },
     "execution_count": 20,
     "metadata": {},
     "output_type": "execute_result"
    }
   ],
   "source": [
    "training_scaled_data.describe()"
   ]
  },
  {
   "cell_type": "markdown",
   "metadata": {},
   "source": [
    "Performing PCA on data that is not standardized could lead to scaling problems, therefore I standardize the data using StandardScaler before applying PCA."
   ]
  },
  {
   "cell_type": "markdown",
   "metadata": {},
   "source": [
    "# PCA (Explained Variance Method)"
   ]
  },
  {
   "cell_type": "code",
   "execution_count": 21,
   "metadata": {},
   "outputs": [],
   "source": [
    "from sklearn.decomposition import PCA"
   ]
  },
  {
   "cell_type": "code",
   "execution_count": 22,
   "metadata": {},
   "outputs": [],
   "source": [
    "pca = PCA(0.95)"
   ]
  },
  {
   "cell_type": "markdown",
   "metadata": {},
   "source": [
    "Instead of exhaustively trying every possible number of principal components and evaluating the performance, to choose the best number of principal components for PCA, I decided to input in pca a number between 0 and 1, by doing this \n",
    "PCA selects the minimum number of components such that the amount of explained variance is greater than the percentage specified by n_components."
   ]
  },
  {
   "cell_type": "code",
   "execution_count": 23,
   "metadata": {
    "scrolled": true
   },
   "outputs": [
    {
     "data": {
      "text/plain": [
       "PCA(n_components=0.95)"
      ]
     },
     "execution_count": 23,
     "metadata": {},
     "output_type": "execute_result"
    }
   ],
   "source": [
    "pca.fit(training_scaled_data)"
   ]
  },
  {
   "cell_type": "code",
   "execution_count": 24,
   "metadata": {},
   "outputs": [],
   "source": [
    "x_pca = pca.transform(training_scaled_data)"
   ]
  },
  {
   "cell_type": "code",
   "execution_count": 25,
   "metadata": {},
   "outputs": [
    {
     "data": {
      "text/plain": [
       "(1040, 34)"
      ]
     },
     "execution_count": 25,
     "metadata": {},
     "output_type": "execute_result"
    }
   ],
   "source": [
    "training_scaled_data.shape"
   ]
  },
  {
   "cell_type": "code",
   "execution_count": 26,
   "metadata": {},
   "outputs": [
    {
     "data": {
      "text/plain": [
       "array([0.07585051, 0.06486641, 0.06473368, 0.04874903, 0.04555866,\n",
       "       0.04024238, 0.03942978, 0.03749627, 0.03658695, 0.03433849,\n",
       "       0.03295403, 0.0313098 , 0.03006623, 0.02988806, 0.02944684,\n",
       "       0.02908361, 0.02814255, 0.02711839, 0.02645332, 0.0260249 ,\n",
       "       0.02561234, 0.024074  , 0.02331886, 0.02224416, 0.02071868,\n",
       "       0.02018046, 0.01754783, 0.01392384, 0.01237744])"
      ]
     },
     "execution_count": 26,
     "metadata": {},
     "output_type": "execute_result"
    }
   ],
   "source": [
    "pca.explained_variance_ratio_"
   ]
  },
  {
   "cell_type": "code",
   "execution_count": 27,
   "metadata": {},
   "outputs": [
    {
     "data": {
      "text/plain": [
       "0.9583374846586195"
      ]
     },
     "execution_count": 27,
     "metadata": {},
     "output_type": "execute_result"
    }
   ],
   "source": [
    "np.sum(pca.explained_variance_ratio_)"
   ]
  },
  {
   "cell_type": "code",
   "execution_count": 28,
   "metadata": {},
   "outputs": [
    {
     "data": {
      "text/plain": [
       "(1040, 29)"
      ]
     },
     "execution_count": 28,
     "metadata": {},
     "output_type": "execute_result"
    }
   ],
   "source": [
    "x_pca.shape"
   ]
  },
  {
   "cell_type": "markdown",
   "metadata": {},
   "source": [
    "In this case the algorithm has chosen 29 principal components so that the sum of the explained variance is greater than 0.95."
   ]
  },
  {
   "cell_type": "code",
   "execution_count": 29,
   "metadata": {},
   "outputs": [],
   "source": [
    "training_data_pca = pca.transform(training_data)\n",
    "test_data_pca = pca.transform(test_data)"
   ]
  },
  {
   "cell_type": "markdown",
   "metadata": {},
   "source": [
    "Finally, I apply the mapping transform also to the test set."
   ]
  },
  {
   "cell_type": "code",
   "execution_count": 30,
   "metadata": {},
   "outputs": [],
   "source": [
    "training_features_pca = pd.DataFrame(training_data_pca)\n",
    "test_features_pca = pd.DataFrame(test_data_pca)\n",
    "\n",
    "df_pca = np.concatenate((training_data_pca.copy(), test_data_pca.copy()), axis = 0)\n",
    "\n",
    "training_features_pca.columns = list(df.columns[0:x_pca.shape[1]])\n",
    "test_features_pca.columns = list(df.columns[0:x_pca.shape[1]])\n"
   ]
  },
  {
   "cell_type": "markdown",
   "metadata": {},
   "source": [
    "I also convert all the data into Pandas DataFrame."
   ]
  },
  {
   "cell_type": "markdown",
   "metadata": {},
   "source": [
    "# Logistic regression on PCA data"
   ]
  },
  {
   "cell_type": "code",
   "execution_count": 31,
   "metadata": {},
   "outputs": [],
   "source": [
    "import timeit"
   ]
  },
  {
   "cell_type": "markdown",
   "metadata": {},
   "source": [
    "This will allow me to make further considerations about performance based on speed."
   ]
  },
  {
   "cell_type": "code",
   "execution_count": 32,
   "metadata": {},
   "outputs": [],
   "source": [
    "from sklearn.linear_model import LogisticRegression\n",
    "from sklearn.model_selection import GridSearchCV"
   ]
  },
  {
   "cell_type": "code",
   "execution_count": 33,
   "metadata": {},
   "outputs": [
    {
     "data": {
      "text/plain": [
       "{'C': 0.001, 'max_iter': 500, 'penalty': 'l2', 'solver': 'newton-cg'}"
      ]
     },
     "execution_count": 33,
     "metadata": {},
     "output_type": "execute_result"
    }
   ],
   "source": [
    "start = timeit.default_timer() #to keep track of running time\n",
    "param_grid={\n",
    "        'C': [0.001, 0.01, 0.1, 1, 10, 100, 500, 1000],\n",
    "        'max_iter' : [500, 1000],\n",
    "        'penalty': ['l2'],\n",
    "        'solver' : ['newton-cg', 'lbfgs']\n",
    "    }\n",
    "\n",
    "grid_pca = GridSearchCV(LogisticRegression(), param_grid, cv=12, scoring='accuracy', refit='True', verbose=0)\n",
    "grid_pca.fit(training_features_pca, training_targets)\n",
    "\n",
    "best_C_pca = grid_pca.best_params_['C']\n",
    "grid_pca.best_params_"
   ]
  },
  {
   "cell_type": "markdown",
   "metadata": {},
   "source": [
    "I use GridSearchCv to find the best parameter for the logistic regression."
   ]
  },
  {
   "cell_type": "code",
   "execution_count": 34,
   "metadata": {},
   "outputs": [],
   "source": [
    "log_reg_pca = LogisticRegression(C=best_C_pca, solver=\"newton-cg\", random_state=42, penalty='l2', max_iter=500) #actually only 'C' parameter changes depending on the random split so the other parameters are fixed \n",
    "log_reg_pca.fit(training_features_pca, training_targets)\n",
    "\n",
    "stop = timeit.default_timer()\n",
    "Time_pca= (stop-start)"
   ]
  },
  {
   "cell_type": "markdown",
   "metadata": {},
   "source": [
    "And performed LogisticRegression with the best parameters obtained."
   ]
  },
  {
   "cell_type": "markdown",
   "metadata": {},
   "source": [
    "# Logistic regression (without PCA)"
   ]
  },
  {
   "cell_type": "code",
   "execution_count": 35,
   "metadata": {},
   "outputs": [
    {
     "data": {
      "text/plain": [
       "{'C': 1, 'max_iter': 500, 'penalty': 'l2', 'solver': 'newton-cg'}"
      ]
     },
     "execution_count": 35,
     "metadata": {},
     "output_type": "execute_result"
    }
   ],
   "source": [
    "start_1 = timeit.default_timer()\n",
    "\n",
    "param_grid={\n",
    "        'C': [0.001, 0.01, 0.1, 1, 10, 100, 500, 1000],\n",
    "        'max_iter' : [500, 1000],\n",
    "        'penalty': ['l2'],\n",
    "        'solver' : ['newton-cg', 'lbfgs']\n",
    "    }\n",
    "\n",
    "grid = GridSearchCV(LogisticRegression(), param_grid, cv=12, scoring='accuracy', refit='True', verbose=0)\n",
    "grid.fit(training_scaled_data, training_targets)\n",
    "\n",
    "best_C_not_pca = grid.best_params_['C']\n",
    "grid.best_params_"
   ]
  },
  {
   "cell_type": "code",
   "execution_count": 36,
   "metadata": {},
   "outputs": [],
   "source": [
    "log_reg = LogisticRegression(C=best_C_not_pca, solver=\"newton-cg\", random_state=42, penalty='l2', max_iter=500)\n",
    "log_reg.fit(training_scaled_data, training_targets)\n",
    "\n",
    "stop_1 = timeit.default_timer()\n",
    "Time_not_pca= (stop_1-start_1)"
   ]
  },
  {
   "cell_type": "markdown",
   "metadata": {},
   "source": [
    "# Performance metrics"
   ]
  },
  {
   "cell_type": "code",
   "execution_count": 37,
   "metadata": {},
   "outputs": [],
   "source": [
    "from sklearn.metrics import mean_squared_error, accuracy_score, classification_report, confusion_matrix\n",
    "from sklearn.model_selection import cross_val_score"
   ]
  },
  {
   "cell_type": "code",
   "execution_count": 38,
   "metadata": {},
   "outputs": [],
   "source": [
    "predictions_pca = log_reg_pca.predict(test_features_pca)\n",
    "predictions_not_pca = log_reg.predict(test_scaled_data)"
   ]
  },
  {
   "cell_type": "markdown",
   "metadata": {},
   "source": [
    "Below I show mean squred error, accuracy, classification report, confusion matrix and cross validation score on training set of the LogisticRegression with PCA data."
   ]
  },
  {
   "cell_type": "code",
   "execution_count": 39,
   "metadata": {},
   "outputs": [
    {
     "data": {
      "text/plain": [
       "0.16538461538461538"
      ]
     },
     "execution_count": 39,
     "metadata": {},
     "output_type": "execute_result"
    }
   ],
   "source": [
    "mean_squared_error_pca= mean_squared_error(test_targets, predictions_pca)\n",
    "mean_squared_error_pca"
   ]
  },
  {
   "cell_type": "code",
   "execution_count": 40,
   "metadata": {},
   "outputs": [
    {
     "data": {
      "text/plain": [
       "0.8346153846153846"
      ]
     },
     "execution_count": 40,
     "metadata": {},
     "output_type": "execute_result"
    }
   ],
   "source": [
    "accuracy_pca = accuracy_score(test_targets, predictions_pca)\n",
    "accuracy_pca"
   ]
  },
  {
   "cell_type": "code",
   "execution_count": 41,
   "metadata": {
    "scrolled": true
   },
   "outputs": [
    {
     "data": {
      "image/png": "[encoded data removed]",
      "text/plain": [
       "<Figure size 1080x432 with 4 Axes>"
      ]
     },
     "metadata": {},
     "output_type": "display_data"
    }
   ],
   "source": [
    "fig = plt.figure(figsize=(15,6))\n",
    "\n",
    "ax1 = fig.add_subplot(121)\n",
    "clf_report = classification_report(test_targets, predictions_pca, output_dict=True)\n",
    "sns.heatmap(pd.DataFrame(clf_report).iloc[:-1, :].T, linewidths=2, annot=True)\n",
    "\n",
    "ax2 = fig.add_subplot(122)\n",
    "cm = confusion_matrix(test_targets, predictions_pca)\n",
    "sns.heatmap(cm, annot=True, linewidths=3, square = True, cmap = 'Blues_r')\n",
    "plt.show()"
   ]
  },
  {
   "cell_type": "markdown",
   "metadata": {},
   "source": [
    "Here I show the classification report including differnt perfomance measures such as recall and f-1 score and the confusion matrix that shows if the model is mislabeling one class as another one."
   ]
  },
  {
   "cell_type": "code",
   "execution_count": 42,
   "metadata": {},
   "outputs": [
    {
     "data": {
      "text/plain": [
       "0.8423076923076923"
      ]
     },
     "execution_count": 42,
     "metadata": {},
     "output_type": "execute_result"
    }
   ],
   "source": [
    "cross_val_score_train_pca =  cross_val_score(log_reg_pca, training_data_pca, training_targets, cv=10).mean()\n",
    "cross_val_score_train_pca"
   ]
  },
  {
   "cell_type": "markdown",
   "metadata": {},
   "source": [
    "Then I show the same performance measures relative to the LogisticRegression without PCA data."
   ]
  },
  {
   "cell_type": "code",
   "execution_count": 43,
   "metadata": {},
   "outputs": [
    {
     "data": {
      "text/plain": [
       "0.1346153846153846"
      ]
     },
     "execution_count": 43,
     "metadata": {},
     "output_type": "execute_result"
    }
   ],
   "source": [
    "mean_squared_error_not_pca= mean_squared_error(test_targets, predictions_not_pca)\n",
    "mean_squared_error_not_pca"
   ]
  },
  {
   "cell_type": "code",
   "execution_count": 44,
   "metadata": {},
   "outputs": [
    {
     "data": {
      "text/plain": [
       "0.8653846153846154"
      ]
     },
     "execution_count": 44,
     "metadata": {},
     "output_type": "execute_result"
    }
   ],
   "source": [
    "accuracy_not_pca = accuracy_score(test_targets, predictions_not_pca)\n",
    "accuracy_not_pca"
   ]
  },
  {
   "cell_type": "code",
   "execution_count": 45,
   "metadata": {
    "scrolled": true
   },
   "outputs": [
    {
     "data": {
      "image/png": "[encoded data removed]",
      "text/plain": [
       "<Figure size 1080x432 with 4 Axes>"
      ]
     },
     "metadata": {},
     "output_type": "display_data"
    }
   ],
   "source": [
    "fig = plt.figure(figsize=(15,6))\n",
    "\n",
    "ax1 = fig.add_subplot(121)\n",
    "clf_report = classification_report(test_targets, predictions_not_pca, output_dict=True)\n",
    "sns.heatmap(pd.DataFrame(clf_report).iloc[:-1, :].T, linewidths=2, annot=True)\n",
    "\n",
    "ax2 = fig.add_subplot(122)\n",
    "cm = confusion_matrix(test_targets, predictions_not_pca)\n",
    "sns.heatmap(cm, annot=True, linewidths=3, square = True, cmap = 'Blues_r')\n",
    "plt.show()"
   ]
  },
  {
   "cell_type": "code",
   "execution_count": 46,
   "metadata": {
    "scrolled": true
   },
   "outputs": [
    {
     "data": {
      "text/plain": [
       "0.8413461538461539"
      ]
     },
     "execution_count": 46,
     "metadata": {},
     "output_type": "execute_result"
    }
   ],
   "source": [
    "cross_val_score_train =  cross_val_score(log_reg, training_scaled_data, training_targets, cv=10).mean()\n",
    "cross_val_score_train"
   ]
  },
  {
   "cell_type": "markdown",
   "metadata": {},
   "source": [
    "The accuracy in both cases is pretty high (around 0.80)."
   ]
  },
  {
   "cell_type": "markdown",
   "metadata": {},
   "source": [
    "# Visual Approach"
   ]
  },
  {
   "cell_type": "markdown",
   "metadata": {},
   "source": [
    "We can select the best number of principal components by selecting the one that maximizes the cross validation score on the training set of our regression, always remembering that the performance on the trainig set, on which the model has been trained,  is different from the performance on the test set, that is the one that we want to be high in the end."
   ]
  },
  {
   "cell_type": "code",
   "execution_count": 47,
   "metadata": {},
   "outputs": [],
   "source": [
    "start_2 = timeit.default_timer()\n",
    "log_reg = LogisticRegression()\n",
    "\n",
    "cv_list = []\n",
    "\n",
    "pca = PCA()\n",
    "\n",
    "X_train_pc = pca.fit_transform(training_scaled_data)"
   ]
  },
  {
   "cell_type": "code",
   "execution_count": 48,
   "metadata": {},
   "outputs": [],
   "source": [
    "for i in range(1, X_train_pc.shape[1]+1):\n",
    "    cv_score =  cross_val_score(log_reg, \n",
    "                                      X_train_pc[:,:i], \n",
    "                                      training_targets, \n",
    "                                      cv=10).mean()\n",
    "                                      \n",
    "    cv_list.append(cv_score) "
   ]
  },
  {
   "cell_type": "markdown",
   "metadata": {},
   "source": [
    "The code above loops trough different numbers of principal components for logistic regression and storing the cross validation score at each iteration."
   ]
  },
  {
   "cell_type": "code",
   "execution_count": 49,
   "metadata": {},
   "outputs": [
    {
     "data": {
      "text/plain": [
       "<matplotlib.lines.Line2D at 0x1e751db5100>"
      ]
     },
     "execution_count": 49,
     "metadata": {},
     "output_type": "execute_result"
    },
    {
     "data": {
      "image/png": "[encoded data removed]",
      "text/plain": [
       "<Figure size 1080x432 with 1 Axes>"
      ]
     },
     "metadata": {},
     "output_type": "display_data"
    }
   ],
   "source": [
    "plt.rcParams['figure.figsize'] = [15, 6]\n",
    "plt.plot(cv_list, '-o')\n",
    "plt.xlabel('Number of principal components in regression')\n",
    "plt.ylabel('CV')\n",
    "plt.title('Target')\n",
    "plt.xlim(xmin=-1);\n",
    "plt.xticks(np.arange(X_train_pc.shape[1]), np.arange(1, X_train_pc.shape[1]+1))\n",
    "plt.axhline(y=cross_val_score_train, color='g', linestyle='-')"
   ]
  },
  {
   "cell_type": "markdown",
   "metadata": {},
   "source": [
    "In the plot above we can visually see the maximum and on the x-axis the number related to it which represents the best number of components if our goal is to maximize the cross validation score on the training set."
   ]
  },
  {
   "cell_type": "code",
   "execution_count": 50,
   "metadata": {},
   "outputs": [
    {
     "data": {
      "text/plain": [
       "33"
      ]
     },
     "execution_count": 50,
     "metadata": {},
     "output_type": "execute_result"
    }
   ],
   "source": [
    "max_ind = cv_list.index(max(cv_list))+1\n",
    "max_ind"
   ]
  },
  {
   "cell_type": "markdown",
   "metadata": {},
   "source": [
    "Below I perform another LogisticRegression with the best number of principal components for pca indicated in the plot above."
   ]
  },
  {
   "cell_type": "code",
   "execution_count": 51,
   "metadata": {},
   "outputs": [],
   "source": [
    "pd.set_option('mode.chained_assignment',None) #to avoid display of chained assignment warning\n",
    "training_data, test_data = train_test_split(data, test_size=0.20)\n",
    "\n",
    "training_targets = training_data.iloc[:, 0] \n",
    "test_targets =  test_data.iloc[:, 0]\n",
    "\n",
    "training_data.drop(columns=[\"label\"], inplace=True)\n",
    "test_data.drop(columns=[\"label\"], inplace=True)"
   ]
  },
  {
   "cell_type": "code",
   "execution_count": 52,
   "metadata": {},
   "outputs": [
    {
     "data": {
      "text/plain": [
       "StandardScaler()"
      ]
     },
     "execution_count": 52,
     "metadata": {},
     "output_type": "execute_result"
    }
   ],
   "source": [
    "scaler= StandardScaler()\n",
    "scaler.fit(training_data)"
   ]
  },
  {
   "cell_type": "code",
   "execution_count": 53,
   "metadata": {},
   "outputs": [],
   "source": [
    "training_scaled_data= pd.DataFrame(scaler.transform(training_data))\n",
    "test_scaled_data= pd.DataFrame(scaler.transform(test_data))"
   ]
  },
  {
   "cell_type": "code",
   "execution_count": 54,
   "metadata": {},
   "outputs": [],
   "source": [
    "pca = PCA(max_ind)"
   ]
  },
  {
   "cell_type": "code",
   "execution_count": 55,
   "metadata": {
    "scrolled": true
   },
   "outputs": [
    {
     "data": {
      "text/plain": [
       "PCA(n_components=33)"
      ]
     },
     "execution_count": 55,
     "metadata": {},
     "output_type": "execute_result"
    }
   ],
   "source": [
    "pca.fit(training_scaled_data)"
   ]
  },
  {
   "cell_type": "code",
   "execution_count": 56,
   "metadata": {},
   "outputs": [],
   "source": [
    "training_data_pca_visual = pca.transform(training_data)\n",
    "test_data_pca_visual = pca.transform(test_data)"
   ]
  },
  {
   "cell_type": "code",
   "execution_count": 57,
   "metadata": {},
   "outputs": [],
   "source": [
    "training_features_pca_visual = pd.DataFrame(training_data_pca_visual)\n",
    "test_features_pca_visual = pd.DataFrame(test_data_pca_visual)\n",
    "\n",
    "training_features_pca_visual.columns = list(df.columns[0:max_ind])\n",
    "test_features_pca_visual.columns = list(df.columns[0:max_ind])"
   ]
  },
  {
   "cell_type": "code",
   "execution_count": 58,
   "metadata": {},
   "outputs": [
    {
     "data": {
      "text/plain": [
       "{'C': 0.01, 'max_iter': 500, 'penalty': 'l2', 'solver': 'newton-cg'}"
      ]
     },
     "execution_count": 58,
     "metadata": {},
     "output_type": "execute_result"
    }
   ],
   "source": [
    "param_grid={\n",
    "        'C': [0.001, 0.01, 0.1, 1, 10, 100, 500, 1000],\n",
    "        'max_iter' : [500, 1000],\n",
    "        'penalty': ['l2'],\n",
    "        'solver' : ['newton-cg', 'lbfgs']\n",
    "    }\n",
    "\n",
    "grid_pca_visual = GridSearchCV(LogisticRegression(), param_grid, cv=12, scoring='accuracy', refit='True', verbose=0)\n",
    "grid_pca_visual.fit(training_features_pca_visual, training_targets)\n",
    "\n",
    "best_C_pca_visual = grid_pca_visual.best_params_['C']\n",
    "grid_pca_visual.best_params_"
   ]
  },
  {
   "cell_type": "code",
   "execution_count": 59,
   "metadata": {},
   "outputs": [],
   "source": [
    "log_reg_pca_visual = LogisticRegression(C=best_C_pca_visual, solver=\"newton-cg\", random_state=42, penalty='l2', max_iter=500)  \n",
    "log_reg_pca_visual.fit(training_features_pca_visual, training_targets)\n",
    "stop_2 = timeit.default_timer()\n",
    "Time_visual= (stop_2-start_2)"
   ]
  },
  {
   "cell_type": "markdown",
   "metadata": {},
   "source": [
    "# Performance measures"
   ]
  },
  {
   "cell_type": "code",
   "execution_count": 60,
   "metadata": {},
   "outputs": [],
   "source": [
    "predictions_pca_visual = log_reg_pca_visual.predict(test_features_pca_visual)"
   ]
  },
  {
   "cell_type": "code",
   "execution_count": 61,
   "metadata": {},
   "outputs": [
    {
     "data": {
      "text/plain": [
       "0.18076923076923077"
      ]
     },
     "execution_count": 61,
     "metadata": {},
     "output_type": "execute_result"
    }
   ],
   "source": [
    "mean_squared_error_pca_visual= mean_squared_error(test_targets, predictions_pca_visual)\n",
    "mean_squared_error_pca_visual"
   ]
  },
  {
   "cell_type": "code",
   "execution_count": 62,
   "metadata": {},
   "outputs": [
    {
     "data": {
      "text/plain": [
       "0.8192307692307692"
      ]
     },
     "execution_count": 62,
     "metadata": {},
     "output_type": "execute_result"
    }
   ],
   "source": [
    "accuracy_pca_visual = accuracy_score(test_targets, predictions_pca_visual)\n",
    "accuracy_pca_visual"
   ]
  },
  {
   "cell_type": "code",
   "execution_count": 63,
   "metadata": {
    "scrolled": true
   },
   "outputs": [
    {
     "data": {
      "image/png": "[encoded data removed]",
      "text/plain": [
       "<Figure size 1080x432 with 4 Axes>"
      ]
     },
     "metadata": {},
     "output_type": "display_data"
    }
   ],
   "source": [
    "fig = plt.figure(figsize=(15,6))\n",
    "\n",
    "ax1 = fig.add_subplot(121)\n",
    "clf_report = classification_report(test_targets, predictions_pca_visual, output_dict=True)\n",
    "sns.heatmap(pd.DataFrame(clf_report).iloc[:-1, :].T, linewidths=2, annot=True)\n",
    "\n",
    "ax2 = fig.add_subplot(122)\n",
    "cm = confusion_matrix(test_targets, predictions_pca_visual)\n",
    "sns.heatmap(cm, annot=True, linewidths=3, square = True, cmap = 'Blues_r')\n",
    "plt.show()"
   ]
  },
  {
   "cell_type": "code",
   "execution_count": 64,
   "metadata": {
    "scrolled": true
   },
   "outputs": [
    {
     "data": {
      "text/plain": [
       "0.8548076923076924"
      ]
     },
     "execution_count": 64,
     "metadata": {},
     "output_type": "execute_result"
    }
   ],
   "source": [
    "cross_val_score_train_pca_visual =  cross_val_score(log_reg_pca_visual, training_data_pca_visual, training_targets, cv=10).mean()\n",
    "cross_val_score_train_pca_visual"
   ]
  },
  {
   "cell_type": "markdown",
   "metadata": {},
   "source": [
    "As we can see accuracy is now lower than without PCA and the number of principal components is (usually) lower too, but this method could lead to some issues regarding generalization as we are optimizing performance on the training set."
   ]
  },
  {
   "cell_type": "markdown",
   "metadata": {},
   "source": [
    "# Pipeline strategy"
   ]
  },
  {
   "cell_type": "markdown",
   "metadata": {},
   "source": [
    "In this section I decided to implement a different strategy in order to find the optimal vallue fr the logistic regression and the optimal number of principal components:\n",
    "\n",
    "I use a pipeline to optimize my parameters, including the number of principal components, using GridSearchCV, so that I can also check my results by cross validation."
   ]
  },
  {
   "cell_type": "code",
   "execution_count": 65,
   "metadata": {},
   "outputs": [],
   "source": [
    "from sklearn.pipeline import Pipeline\n",
    "from sklearn import linear_model, decomposition"
   ]
  },
  {
   "cell_type": "code",
   "execution_count": 66,
   "metadata": {},
   "outputs": [],
   "source": [
    "start_3 = timeit.default_timer()\n",
    "\n",
    "sc = StandardScaler() #scaler object\n",
    "\n",
    "pca = decomposition.PCA() #PCA object\n",
    "\n",
    "logistic = linear_model.LogisticRegression() #logistic regression object"
   ]
  },
  {
   "cell_type": "code",
   "execution_count": 67,
   "metadata": {},
   "outputs": [],
   "source": [
    "pipe= Pipeline(steps=[('sc', sc),\n",
    "                     ('pca', pca),\n",
    "                     ('logistic', logistic)])"
   ]
  },
  {
   "cell_type": "markdown",
   "metadata": {},
   "source": [
    "Here I implemented the pipeline using StandardScaler and PCA:"
   ]
  },
  {
   "cell_type": "code",
   "execution_count": 68,
   "metadata": {},
   "outputs": [],
   "source": [
    "n_components= list(range(1,df.shape[1]+1,1))"
   ]
  },
  {
   "cell_type": "code",
   "execution_count": 69,
   "metadata": {},
   "outputs": [],
   "source": [
    "C = np.logspace(-4, 4, 50)"
   ]
  },
  {
   "cell_type": "code",
   "execution_count": 70,
   "metadata": {},
   "outputs": [],
   "source": [
    "penalty = ['l2']"
   ]
  },
  {
   "cell_type": "code",
   "execution_count": 71,
   "metadata": {},
   "outputs": [],
   "source": [
    "parameters = dict(pca__n_components=n_components,\n",
    "                 logistic__C=C,\n",
    "                 logistic__penalty=penalty)"
   ]
  },
  {
   "cell_type": "markdown",
   "metadata": {},
   "source": [
    "These are the parameters to optimize and by using scoring=None in GridSearchCV, the strategy to evaluate performance will be the accuracy."
   ]
  },
  {
   "cell_type": "code",
   "execution_count": 72,
   "metadata": {},
   "outputs": [],
   "source": [
    "clf = GridSearchCV(pipe, parameters)\n",
    "\n",
    "clf.fit(df, targets)\n",
    "\n",
    "stop_3 = timeit.default_timer()\n",
    "Time_pipeline= (stop_3-start_3)"
   ]
  },
  {
   "cell_type": "code",
   "execution_count": 73,
   "metadata": {},
   "outputs": [
    {
     "name": "stdout",
     "output_type": "stream",
     "text": [
      "Best Penalty: l2\n",
      "Best C: 0.08685113737513521\n",
      "Best Number Of Components: 33\n",
      "\n",
      "LogisticRegression(C=0.08685113737513521)\n"
     ]
    }
   ],
   "source": [
    "print('Best Penalty:', clf.best_estimator_.get_params()['logistic__penalty'])\n",
    "print('Best C:', clf.best_estimator_.get_params()['logistic__C'])\n",
    "print('Best Number Of Components:', clf.best_estimator_.get_params()['pca__n_components'])\n",
    "print(); print(clf.best_estimator_.get_params()['logistic'])\n",
    "\n"
   ]
  },
  {
   "cell_type": "code",
   "execution_count": 74,
   "metadata": {},
   "outputs": [
    {
     "name": "stdout",
     "output_type": "stream",
     "text": [
      "\n",
      "CV_result: [0.88461538 0.85       0.83461538 0.82692308 0.82307692]\n",
      "\n",
      "Mean of CV_Result: 0.8438461538461539\n",
      "\n",
      "Standard Deviation of CV_Result: 0.022373907034229208\n"
     ]
    }
   ],
   "source": [
    "CV_Result = cross_val_score(clf, df, targets, cv=5, n_jobs=-1)\n",
    "print(); print('CV_result:', CV_Result)\n",
    "print(); print('Mean of CV_Result:',CV_Result.mean())\n",
    "print(); print('Standard Deviation of CV_Result:',CV_Result.std())"
   ]
  },
  {
   "cell_type": "markdown",
   "metadata": {},
   "source": [
    "I also use cross validation to check the Cross Validation score of our LogisticRegression."
   ]
  },
  {
   "cell_type": "markdown",
   "metadata": {},
   "source": [
    "# Alternative models"
   ]
  },
  {
   "cell_type": "markdown",
   "metadata": {},
   "source": [
    "In this section I try to choose an alternative model, based on mean_squared_error, so I randomly split my data again and I perform PCA."
   ]
  },
  {
   "cell_type": "code",
   "execution_count": 75,
   "metadata": {},
   "outputs": [],
   "source": [
    "pd.set_option('mode.chained_assignment',None) #to avoid display of chained assignment warning\n",
    "training_data, test_data = train_test_split(data, test_size=0.20)\n",
    "\n",
    "training_targets = training_data.iloc[:, 0] \n",
    "test_targets =  test_data.iloc[:, 0]\n",
    "\n",
    "training_data.drop(columns=[\"label\"], inplace=True)\n",
    "test_data.drop(columns=[\"label\"], inplace=True)"
   ]
  },
  {
   "cell_type": "code",
   "execution_count": 76,
   "metadata": {},
   "outputs": [
    {
     "data": {
      "text/plain": [
       "StandardScaler()"
      ]
     },
     "execution_count": 76,
     "metadata": {},
     "output_type": "execute_result"
    }
   ],
   "source": [
    "scaler= StandardScaler()\n",
    "scaler.fit(training_data)"
   ]
  },
  {
   "cell_type": "code",
   "execution_count": 77,
   "metadata": {},
   "outputs": [],
   "source": [
    "training_scaled_data= pd.DataFrame(scaler.transform(training_data))\n",
    "test_scaled_data= pd.DataFrame(scaler.transform(test_data))"
   ]
  },
  {
   "cell_type": "code",
   "execution_count": 78,
   "metadata": {},
   "outputs": [
    {
     "data": {
      "text/plain": [
       "PCA(n_components=33)"
      ]
     },
     "execution_count": 78,
     "metadata": {},
     "output_type": "execute_result"
    }
   ],
   "source": [
    "pca = PCA(n_components=33)\n",
    "pca.fit(training_scaled_data)"
   ]
  },
  {
   "cell_type": "code",
   "execution_count": 79,
   "metadata": {},
   "outputs": [],
   "source": [
    "training_data_pca = pca.transform(training_data)\n",
    "test_data_pca = pca.transform(test_data)"
   ]
  },
  {
   "cell_type": "code",
   "execution_count": 80,
   "metadata": {
    "scrolled": true
   },
   "outputs": [
    {
     "name": "stdout",
     "output_type": "stream",
     "text": [
      "Support Vector Machine Regressor:0.05425396686357537\n",
      "Gradient Boosting Regressor:0.10192863080185434\n",
      "RandomForestRegressor:0.11606500000000002\n",
      "RandomForestClassifier:0.13846153846153847\n",
      "Stochastic Gradient Descent:0.15016464385784367\n",
      "K-Nearest Neighbours Regressor:0.055692307692307694\n"
     ]
    }
   ],
   "source": [
    "from sklearn.ensemble import RandomForestRegressor\n",
    "from sklearn.ensemble import RandomForestClassifier\n",
    "from sklearn.svm import SVR\n",
    "from sklearn.ensemble import GradientBoostingRegressor\n",
    "from sklearn.linear_model import SGDRegressor\n",
    "from sklearn.neighbors import KNeighborsRegressor\n",
    "\n",
    "models=dict()\n",
    "\n",
    "models[\"Support Vector Machine Regressor\"]=SVR()\n",
    "models[\"Gradient Boosting Regressor\"]=GradientBoostingRegressor()\n",
    "models[\"RandomForestRegressor\"]=RandomForestRegressor()\n",
    "models[\"RandomForestClassifier\"]=RandomForestClassifier()\n",
    "models[\"Stochastic Gradient Descent\"]=SGDRegressor()\n",
    "models[\"K-Nearest Neighbours Regressor\"]=KNeighborsRegressor()\n",
    "\n",
    "for model in models:\n",
    "    model_inuse=models[model].fit(training_data_pca,training_targets)\n",
    "    prediction=model_inuse.predict(test_data_pca)\n",
    "    print(f\"{model}:{mean_squared_error(test_targets,prediction)}\")"
   ]
  },
  {
   "cell_type": "markdown",
   "metadata": {},
   "source": [
    "Support Vector Machine Regressor seems to achieve the lowest MSE and so it could be an alternative to Logistic Regression i  this case."
   ]
  },
  {
   "cell_type": "markdown",
   "metadata": {},
   "source": [
    "# Conclusion"
   ]
  },
  {
   "cell_type": "markdown",
   "metadata": {},
   "source": [
    "In the end the best strategy to implement, if we have to choose one, is probably the Pipeline method if we don't care too much about running time, which in any case is fast enough with our dataset and the optimal parameters are shown in that section.\n",
    "\n",
    "On the other hand, in this case, with our dataset, we could avoid using PCA if we don't want to spend too much tim optimizing the number of parameters trough the Pipeline procedure which is pretty costly in terms of running time, moreover there's no significant improvement in the running time and accuracy is always better without PCA, so there is no significant reason to implement it.\n",
    "\n",
    "If we are dealing with larger dataset, we could also rely on the visual method as the running time is significantly lower than using the pipeline strategy. \n",
    "\n",
    "In any case at least these strategies are faster than manually implementing a PCA with different number of componets each time (brute force approach)."
   ]
  },
  {
   "cell_type": "code",
   "execution_count": 81,
   "metadata": {},
   "outputs": [
    {
     "name": "stdout",
     "output_type": "stream",
     "text": [
      "Running time without PCA:12.727364099999996\n"
     ]
    }
   ],
   "source": [
    "print(f'Running time without PCA:{Time_not_pca}')"
   ]
  },
  {
   "cell_type": "code",
   "execution_count": 82,
   "metadata": {},
   "outputs": [
    {
     "name": "stdout",
     "output_type": "stream",
     "text": [
      "Running time with method of explained_variance:16.546806899999996\n"
     ]
    }
   ],
   "source": [
    "print(f'Running time with method of explained_variance:{Time_pca}')"
   ]
  },
  {
   "cell_type": "code",
   "execution_count": 83,
   "metadata": {},
   "outputs": [
    {
     "name": "stdout",
     "output_type": "stream",
     "text": [
      "Running time with visual method:30.341294500000004\n"
     ]
    }
   ],
   "source": [
    "print(f'Running time with visual method:{Time_visual}')"
   ]
  },
  {
   "cell_type": "code",
   "execution_count": 84,
   "metadata": {},
   "outputs": [
    {
     "name": "stdout",
     "output_type": "stream",
     "text": [
      "Running time with pipeline method:267.295831\n"
     ]
    }
   ],
   "source": [
    "print(f'Running time with pipeline method:{Time_pipeline}')"
   ]
  },
  {
   "cell_type": "markdown",
   "metadata": {},
   "source": [
    "Optimal procedure: Pipeline strategy"
   ]
  },
  {
   "cell_type": "code",
   "execution_count": 85,
   "metadata": {
    "scrolled": true
   },
   "outputs": [
    {
     "name": "stdout",
     "output_type": "stream",
     "text": [
      "Best Penalty: l2\n",
      "Best C: 0.08685113737513521\n",
      "Best Number Of Components: 33\n",
      "\n",
      "LogisticRegression(C=0.08685113737513521)\n"
     ]
    }
   ],
   "source": [
    "print('Best Penalty:', clf.best_estimator_.get_params()['logistic__penalty'])\n",
    "print('Best C:', clf.best_estimator_.get_params()['logistic__C'])\n",
    "print('Best Number Of Components:', clf.best_estimator_.get_params()['pca__n_components'])\n",
    "print(); print(clf.best_estimator_.get_params()['logistic'])"
   ]
  }
 ],
 "metadata": {
  "kernelspec": {
   "display_name": "Python 3",
   "language": "python",
   "name": "python3"
  },
  "language_info": {
   "codemirror_mode": {
    "name": "ipython",
    "version": 3
   },
   "file_extension": ".py",
   "mimetype": "text/x-python",
   "name": "python",
   "nbconvert_exporter": "python",
   "pygments_lexer": "ipython3",
   "version": "3.8.5"
  }
 },
 "nbformat": 4,
 "nbformat_minor": 4
}
